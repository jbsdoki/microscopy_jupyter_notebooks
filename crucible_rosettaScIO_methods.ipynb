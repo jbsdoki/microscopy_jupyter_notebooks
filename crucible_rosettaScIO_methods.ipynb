{
 "cells": [
  {
   "cell_type": "code",
   "execution_count": 2,
   "id": "e1ac16fc-7728-478a-aa79-78ad0d201207",
   "metadata": {},
   "outputs": [],
   "source": [
    "from rsciio import msa"
   ]
  },
  {
   "cell_type": "markdown",
   "id": "ccdfd4d6-30fb-4306-b2b6-284578504036",
   "metadata": {},
   "source": [
    "## I think this error is because of non standard naming inside the emd files\n",
    "## RosettaSciIO probably not suitable for Crucibile with React"
   ]
  },
  {
   "cell_type": "code",
   "execution_count": 9,
   "id": "b51c7b72-eec8-491a-acf6-67df534aedb5",
   "metadata": {},
   "outputs": [
    {
     "ename": "ValueError",
     "evalue": "too many values to unpack (expected 2)",
     "output_type": "error",
     "traceback": [
      "\u001b[1;31m---------------------------------------------------------------------------\u001b[0m",
      "\u001b[1;31mValueError\u001b[0m                                Traceback (most recent call last)",
      "Cell \u001b[1;32mIn[9], line 1\u001b[0m\n\u001b[1;32m----> 1\u001b[0m d \u001b[38;5;241m=\u001b[39m \u001b[43mmsa\u001b[49m\u001b[38;5;241;43m.\u001b[39;49m\u001b[43mfile_reader\u001b[49m\u001b[43m(\u001b[49m\u001b[38;5;124;43m\"\u001b[39;49m\u001b[38;5;124;43mCopy of SI HAADF 1202 49000 x.emd\u001b[39;49m\u001b[38;5;124;43m\"\u001b[39;49m\u001b[43m)\u001b[49m\n",
      "File \u001b[1;32m~\\micromambaenv\\envs\\hyperspy-env\\lib\\site-packages\\rsciio\\msa\\_api.py:361\u001b[0m, in \u001b[0;36mfile_reader\u001b[1;34m(filename, lazy, encoding)\u001b[0m\n\u001b[0;32m    358\u001b[0m     \u001b[38;5;28;01mraise\u001b[39;00m \u001b[38;5;167;01mNotImplementedError\u001b[39;00m(\u001b[38;5;124m\"\u001b[39m\u001b[38;5;124mLazy loading is not supported.\u001b[39m\u001b[38;5;124m\"\u001b[39m)\n\u001b[0;32m    360\u001b[0m \u001b[38;5;28;01mwith\u001b[39;00m codecs\u001b[38;5;241m.\u001b[39mopen(filename, encoding\u001b[38;5;241m=\u001b[39mencoding, errors\u001b[38;5;241m=\u001b[39m\u001b[38;5;124m\"\u001b[39m\u001b[38;5;124mreplace\u001b[39m\u001b[38;5;124m\"\u001b[39m) \u001b[38;5;28;01mas\u001b[39;00m spectrum_file:\n\u001b[1;32m--> 361\u001b[0m     \u001b[38;5;28;01mreturn\u001b[39;00m \u001b[43mparse_msa_string\u001b[49m\u001b[43m(\u001b[49m\u001b[43mstring\u001b[49m\u001b[38;5;241;43m=\u001b[39;49m\u001b[43mspectrum_file\u001b[49m\u001b[43m,\u001b[49m\u001b[43m \u001b[49m\u001b[43mfilename\u001b[49m\u001b[38;5;241;43m=\u001b[39;49m\u001b[43mfilename\u001b[49m\u001b[43m)\u001b[49m\n",
      "File \u001b[1;32m~\\micromambaenv\\envs\\hyperspy-env\\lib\\site-packages\\rsciio\\msa\\_api.py:222\u001b[0m, in \u001b[0;36mparse_msa_string\u001b[1;34m(string, filename)\u001b[0m\n\u001b[0;32m    218\u001b[0m \u001b[38;5;28;01mfor\u001b[39;00m parameter, value \u001b[38;5;129;01min\u001b[39;00m parameters\u001b[38;5;241m.\u001b[39mitems():\n\u001b[0;32m    219\u001b[0m     \u001b[38;5;66;03m# Some parameters names can contain the units information\u001b[39;00m\n\u001b[0;32m    220\u001b[0m     \u001b[38;5;66;03m# e.g. #AZIMANGLE-dg: 90.\u001b[39;00m\n\u001b[0;32m    221\u001b[0m     \u001b[38;5;28;01mif\u001b[39;00m \u001b[38;5;124m\"\u001b[39m\u001b[38;5;124m-\u001b[39m\u001b[38;5;124m\"\u001b[39m \u001b[38;5;129;01min\u001b[39;00m parameter:\n\u001b[1;32m--> 222\u001b[0m         clean_par, units \u001b[38;5;241m=\u001b[39m parameter\u001b[38;5;241m.\u001b[39msplit(\u001b[38;5;124m\"\u001b[39m\u001b[38;5;124m-\u001b[39m\u001b[38;5;124m\"\u001b[39m)\n\u001b[0;32m    223\u001b[0m         clean_par, units \u001b[38;5;241m=\u001b[39m clean_par\u001b[38;5;241m.\u001b[39mstrip(), units\u001b[38;5;241m.\u001b[39mstrip()\n\u001b[0;32m    224\u001b[0m     \u001b[38;5;28;01melse\u001b[39;00m:\n",
      "\u001b[1;31mValueError\u001b[0m: too many values to unpack (expected 2)"
     ]
    }
   ],
   "source": [
    "d = msa.file_reader(\"Copy of SI HAADF 1202 49000 x.emd\")"
   ]
  },
  {
   "cell_type": "code",
   "execution_count": null,
   "id": "87e612d5-cc98-43a1-874d-3467bfc98bd2",
   "metadata": {},
   "outputs": [],
   "source": []
  },
  {
   "cell_type": "code",
   "execution_count": null,
   "id": "7448bd83-dee8-466c-a51a-2ba3661d35ba",
   "metadata": {},
   "outputs": [],
   "source": []
  }
 ],
 "metadata": {
  "kernelspec": {
   "display_name": "Python 3 (ipykernel)",
   "language": "python",
   "name": "python3"
  },
  "language_info": {
   "codemirror_mode": {
    "name": "ipython",
    "version": 3
   },
   "file_extension": ".py",
   "mimetype": "text/x-python",
   "name": "python",
   "nbconvert_exporter": "python",
   "pygments_lexer": "ipython3",
   "version": "3.10.18"
  }
 },
 "nbformat": 4,
 "nbformat_minor": 5
}
