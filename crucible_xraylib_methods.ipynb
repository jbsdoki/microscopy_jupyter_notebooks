{
 "cells": [
  {
   "cell_type": "code",
   "execution_count": 4,
   "id": "19a4527f-e292-4269-b00c-8b1d03fa770c",
   "metadata": {},
   "outputs": [],
   "source": [
    "import hyperspy.api as hs\n",
    "import xraylib as x\n",
    "import numpy as np\n",
    "import os"
   ]
  },
  {
   "cell_type": "markdown",
   "id": "1ce0d510-0039-40df-893e-37030ed65dc2",
   "metadata": {},
   "source": [
    "# xraylib"
   ]
  },
  {
   "cell_type": "markdown",
   "id": "09d302fc-0506-431f-87ad-84e88fd2ad96",
   "metadata": {},
   "source": [
    "xraylib is a C-based library with Python bindings for X-ray fluorescence, absorption, and scattering calculations. It's a highly accurate and efficient tool for people working in X-ray spectroscopy, crystallography, materials science, and related fields.\n",
    "\n",
    "## What Is xraylib For?\n",
    "You can use it to:\n",
    "\n",
    "Get fluorescence line energies and intensities\n",
    "\n",
    "Calculate mass attenuation coefficients\n",
    "\n",
    "Analyze photoelectric cross-sections\n",
    "\n",
    "Determine edge energies (K, L, M, etc.)\n",
    "\n",
    "Simulate Rayleigh and Compton scattering\n",
    "\n",
    "Basically, it gives you the theoretical backbone for simulating or interpreting experimental X-ray data.\n",
    "\n",
    "## Key Features and Functions\n",
    "### 1. Atomic Data\n",
    "Get atomic weights, numbers, and densities:\n",
    "\n",
    "xraylib.AtomicWeight(26)  # Iron (Fe)  \n",
    "\n",
    "xraylib.AtomicNumber(\"Fe\")  # 26  \n",
    "\n",
    "xraylib.ElementDensity(26)  # g/cm³  \n",
    "\n",
    "### 2. X-ray Line Energies\n",
    "xraylib.LineEnergy(26, xraylib.KA1_LINE)  # Fe Kα1 line energy  \n",
    "\n",
    "You can access a huge set of lines like KA1_LINE, KB1_LINE, LA1_LINE, etc.  \n",
    "\n",
    "\n",
    "### 3. Cross Sections\n",
    "xraylib.CS_Total(26, 10.0)  # Total cross section at 10 keV  \n",
    "\n",
    "xraylib.CS_Photo(26, 10.0)  # Photoelectric  \n",
    "\n",
    "xraylib.CS_Compt(26, 10.0)  # Compton scattering  \n",
    "\n",
    "Units are typically in cm²/g.  \n",
    "\n",
    "\n",
    "### 4. Edge Energies\n",
    "xraylib.EdgeEnergy(26, xraylib.K_SHELL)  \n",
    "\n",
    "Useful for interpreting spectra near absorption edges.  \n",
    "\n",
    "\n",
    "### 5. Fluorescence Yields and Radiative Rates  \n",
    "\n",
    "xraylib.FluorYield(26, xraylib.K_SHELL)  \n",
    "\n",
    "xraylib.RadRate(26, xraylib.KA1_LINE)  \n",
    "\n",
    "Crucial for quantifying XRF (X-ray fluorescence).  \n",
    "\n",
    "\n",
    "### 6. Compound/Mixture Handling\n",
    "compound = xraylib.CompoundParser(\"Fe2O3\")  \n",
    "\n",
    "compound[\"mass_fraction\"][xraylib.AtomicNumber(\"Fe\")]  # Fraction of iron  \n",
    "\n",
    "You can also get the total cross-section for a compound:  \n",
    "\n",
    "\n",
    "xraylib.CS_Total_CP(\"Fe2O3\", 10.0)  # At 10 keV\n",
    "\n",
    "\n",
    "\n",
    "## Why Use xraylib?\n",
    "Because:\n",
    "\n",
    "It’s fast and accurate (underlying C code).\n",
    "\n",
    "Based on up-to-date databases like XCOM and Scofield.\n",
    "\n",
    "It handles edge cases better than simplistic models.\n",
    "\n",
    "Works well in scientific pipelines (e.g., with PyMCA or custom XRF analysis)."
   ]
  },
  {
   "cell_type": "code",
   "execution_count": 3,
   "id": "69bcca52-a4b6-44f4-8683-3cd45be76e5c",
   "metadata": {},
   "outputs": [],
   "source": [
    " Iron = x.SymbolToAtomicNumber(\"Fe\")"
   ]
  },
  {
   "cell_type": "code",
   "execution_count": 4,
   "id": "49f24281-ac75-418d-bfe9-43ceae95b814",
   "metadata": {},
   "outputs": [
    {
     "data": {
      "text/plain": [
       "26"
      ]
     },
     "execution_count": 4,
     "metadata": {},
     "output_type": "execute_result"
    }
   ],
   "source": [
    "Iron"
   ]
  },
  {
   "cell_type": "code",
   "execution_count": 5,
   "id": "064b845e-960a-43a8-a211-3f2f45a6d721",
   "metadata": {},
   "outputs": [],
   "source": [
    "ka1_energy = x.LineEnergy(Iron, x.KA1_LINE)\n",
    "kb1_energy = x.LineEnergy(Iron, x.KB1_LINE)"
   ]
  },
  {
   "cell_type": "code",
   "execution_count": 6,
   "id": "20a51d5d-f60e-405b-b3bc-f308789e3619",
   "metadata": {},
   "outputs": [
    {
     "data": {
      "text/plain": [
       "6.4039"
      ]
     },
     "execution_count": 6,
     "metadata": {},
     "output_type": "execute_result"
    }
   ],
   "source": [
    "ka1_energy"
   ]
  },
  {
   "cell_type": "code",
   "execution_count": 7,
   "id": "89177d25-df52-4a7a-8ac5-1e35aa680fe1",
   "metadata": {},
   "outputs": [
    {
     "data": {
      "text/plain": [
       "7.058"
      ]
     },
     "execution_count": 7,
     "metadata": {},
     "output_type": "execute_result"
    }
   ],
   "source": [
    "kb1_energy"
   ]
  },
  {
   "cell_type": "code",
   "execution_count": 8,
   "id": "0ced294b-e611-4d1d-adc9-1bfa649d58ae",
   "metadata": {},
   "outputs": [
    {
     "name": "stdout",
     "output_type": "stream",
     "text": [
      "K-edge binding energy for Fe: 7.11 keV\n"
     ]
    }
   ],
   "source": [
    "k_edge = x.EdgeEnergy(Iron, x.K_SHELL)\n",
    "print(f\"K-edge binding energy for Fe: {k_edge:.2f} keV\")"
   ]
  },
  {
   "cell_type": "code",
   "execution_count": 9,
   "id": "1d0c2502-9d35-4adf-bbf1-2796e49de1f5",
   "metadata": {},
   "outputs": [],
   "source": [
    " Lithium = x.SymbolToAtomicNumber(\"Li\")"
   ]
  },
  {
   "cell_type": "markdown",
   "id": "acbadd16-214e-4ded-9ab9-11fe2f94f034",
   "metadata": {},
   "source": [
    "### xraylib does not carry the ka1 line for Lithium or Beryllium, which should be 54.3 eV or 0.0543 keV. Typically these elements have extremely small emission frequencies and require specialized equipment and techniques for detecting.\n",
    "### The following code will throw an error:"
   ]
  },
  {
   "cell_type": "code",
   "execution_count": 10,
   "id": "aacd7c64-d7a5-4209-883b-491400bafeed",
   "metadata": {},
   "outputs": [
    {
     "ename": "ValueError",
     "evalue": "Invalid line for this atomic number",
     "output_type": "error",
     "traceback": [
      "\u001b[1;31m---------------------------------------------------------------------------\u001b[0m",
      "\u001b[1;31mValueError\u001b[0m                                Traceback (most recent call last)",
      "Cell \u001b[1;32mIn[10], line 1\u001b[0m\n\u001b[1;32m----> 1\u001b[0m ka1_energy \u001b[38;5;241m=\u001b[39m \u001b[43mx\u001b[49m\u001b[38;5;241;43m.\u001b[39;49m\u001b[43mLineEnergy\u001b[49m\u001b[43m(\u001b[49m\u001b[43mLithium\u001b[49m\u001b[43m,\u001b[49m\u001b[43m \u001b[49m\u001b[43mx\u001b[49m\u001b[38;5;241;43m.\u001b[39;49m\u001b[43mKA1_LINE\u001b[49m\u001b[43m)\u001b[49m\n",
      "File \u001b[1;32m~\\micromambaenv\\envs\\hyperspy-env\\lib\\site-packages\\xraylib.py:4127\u001b[0m, in \u001b[0;36mLineEnergy\u001b[1;34m(Z, line)\u001b[0m\n\u001b[0;32m   4117\u001b[0m \u001b[38;5;28;01mdef\u001b[39;00m\u001b[38;5;250m \u001b[39m\u001b[38;5;21mLineEnergy\u001b[39m(Z, line):\n\u001b[0;32m   4118\u001b[0m \u001b[38;5;250m    \u001b[39m\u001b[38;5;124mr\u001b[39m\u001b[38;5;124;03m\"\"\"\u001b[39;00m\n\u001b[0;32m   4119\u001b[0m \u001b[38;5;124;03m    LineEnergy(int Z, int line) -> double\u001b[39;00m\n\u001b[0;32m   4120\u001b[0m \n\u001b[1;32m   (...)\u001b[0m\n\u001b[0;32m   4125\u001b[0m \n\u001b[0;32m   4126\u001b[0m \u001b[38;5;124;03m    \"\"\"\u001b[39;00m\n\u001b[1;32m-> 4127\u001b[0m     \u001b[38;5;28;01mreturn\u001b[39;00m \u001b[43m_xraylib\u001b[49m\u001b[38;5;241;43m.\u001b[39;49m\u001b[43mLineEnergy\u001b[49m\u001b[43m(\u001b[49m\u001b[43mZ\u001b[49m\u001b[43m,\u001b[49m\u001b[43m \u001b[49m\u001b[43mline\u001b[49m\u001b[43m)\u001b[49m\n",
      "\u001b[1;31mValueError\u001b[0m: Invalid line for this atomic number"
     ]
    }
   ],
   "source": [
    "ka1_energy = x.LineEnergy(Lithium, x.KA1_LINE)"
   ]
  },
  {
   "cell_type": "code",
   "execution_count": 11,
   "id": "b8497b2c-b4df-40dd-b09d-a9dae9edddec",
   "metadata": {},
   "outputs": [
    {
     "ename": "ValueError",
     "evalue": "Invalid line for this atomic number",
     "output_type": "error",
     "traceback": [
      "\u001b[1;31m---------------------------------------------------------------------------\u001b[0m",
      "\u001b[1;31mValueError\u001b[0m                                Traceback (most recent call last)",
      "Cell \u001b[1;32mIn[11], line 2\u001b[0m\n\u001b[0;32m      1\u001b[0m Beryllium \u001b[38;5;241m=\u001b[39m x\u001b[38;5;241m.\u001b[39mSymbolToAtomicNumber(\u001b[38;5;124m\"\u001b[39m\u001b[38;5;124mBe\u001b[39m\u001b[38;5;124m\"\u001b[39m)\n\u001b[1;32m----> 2\u001b[0m ka1_energy \u001b[38;5;241m=\u001b[39m \u001b[43mx\u001b[49m\u001b[38;5;241;43m.\u001b[39;49m\u001b[43mLineEnergy\u001b[49m\u001b[43m(\u001b[49m\u001b[43mBeryllium\u001b[49m\u001b[43m,\u001b[49m\u001b[43m \u001b[49m\u001b[43mx\u001b[49m\u001b[38;5;241;43m.\u001b[39;49m\u001b[43mKA1_LINE\u001b[49m\u001b[43m)\u001b[49m\n\u001b[0;32m      3\u001b[0m ka1_energy\n",
      "File \u001b[1;32m~\\micromambaenv\\envs\\hyperspy-env\\lib\\site-packages\\xraylib.py:4127\u001b[0m, in \u001b[0;36mLineEnergy\u001b[1;34m(Z, line)\u001b[0m\n\u001b[0;32m   4117\u001b[0m \u001b[38;5;28;01mdef\u001b[39;00m\u001b[38;5;250m \u001b[39m\u001b[38;5;21mLineEnergy\u001b[39m(Z, line):\n\u001b[0;32m   4118\u001b[0m \u001b[38;5;250m    \u001b[39m\u001b[38;5;124mr\u001b[39m\u001b[38;5;124;03m\"\"\"\u001b[39;00m\n\u001b[0;32m   4119\u001b[0m \u001b[38;5;124;03m    LineEnergy(int Z, int line) -> double\u001b[39;00m\n\u001b[0;32m   4120\u001b[0m \n\u001b[1;32m   (...)\u001b[0m\n\u001b[0;32m   4125\u001b[0m \n\u001b[0;32m   4126\u001b[0m \u001b[38;5;124;03m    \"\"\"\u001b[39;00m\n\u001b[1;32m-> 4127\u001b[0m     \u001b[38;5;28;01mreturn\u001b[39;00m \u001b[43m_xraylib\u001b[49m\u001b[38;5;241;43m.\u001b[39;49m\u001b[43mLineEnergy\u001b[49m\u001b[43m(\u001b[49m\u001b[43mZ\u001b[49m\u001b[43m,\u001b[49m\u001b[43m \u001b[49m\u001b[43mline\u001b[49m\u001b[43m)\u001b[49m\n",
      "\u001b[1;31mValueError\u001b[0m: Invalid line for this atomic number"
     ]
    }
   ],
   "source": [
    "Beryllium = x.SymbolToAtomicNumber(\"Be\")\n",
    "ka1_energy = x.LineEnergy(Beryllium, x.KA1_LINE)\n",
    "ka1_energy"
   ]
  },
  {
   "cell_type": "markdown",
   "id": "68829934-bac8-4ff5-bd74-771e604e208c",
   "metadata": {},
   "source": [
    "### The first element xraylib does carry the ka1 line for is Oxygen"
   ]
  },
  {
   "cell_type": "code",
   "execution_count": 12,
   "id": "c012e922-7273-4897-949c-ed971bc4b37c",
   "metadata": {},
   "outputs": [
    {
     "data": {
      "text/plain": [
       "0.5249"
      ]
     },
     "execution_count": 12,
     "metadata": {},
     "output_type": "execute_result"
    }
   ],
   "source": [
    "Oxygen = x.SymbolToAtomicNumber(\"O\")\n",
    "ka1_energy = x.LineEnergy(Oxygen, x.KA1_LINE)\n",
    "ka1_energy"
   ]
  },
  {
   "cell_type": "code",
   "execution_count": 13,
   "id": "dfa77262-d341-4be3-8657-218ac13f3694",
   "metadata": {},
   "outputs": [],
   "source": [
    "Lawrencium = x.SymbolToAtomicNumber(\"Lr\")\n",
    "ka1_energy = x.LineEnergy(Lawrencium, x.KA1_LINE)\n",
    "ma1_energy = x.LineEnergy(Lawrencium, x.MA1_LINE)"
   ]
  },
  {
   "cell_type": "code",
   "execution_count": 14,
   "id": "b3e8b76a-2a5c-4f3e-b154-1b83e7089109",
   "metadata": {},
   "outputs": [
    {
     "data": {
      "text/plain": [
       "130.611"
      ]
     },
     "execution_count": 14,
     "metadata": {},
     "output_type": "execute_result"
    }
   ],
   "source": [
    "ka1_energy"
   ]
  },
  {
   "cell_type": "code",
   "execution_count": 15,
   "id": "11e2cf99-b272-4e42-891a-8442ee41c8df",
   "metadata": {},
   "outputs": [
    {
     "data": {
      "text/plain": [
       "4.218"
      ]
     },
     "execution_count": 15,
     "metadata": {},
     "output_type": "execute_result"
    }
   ],
   "source": [
    "ma1_energy"
   ]
  },
  {
   "cell_type": "code",
   "execution_count": 16,
   "id": "29d7e13c-7990-4622-9532-d7cd7782ac22",
   "metadata": {},
   "outputs": [
    {
     "data": {
      "text/plain": [
       "0.2774"
      ]
     },
     "execution_count": 16,
     "metadata": {},
     "output_type": "execute_result"
    }
   ],
   "source": [
    "Carbon = x.SymbolToAtomicNumber(\"C\")\n",
    "ka1_energy = x.LineEnergy(Carbon, x.KA1_LINE)\n",
    "ka1_energy"
   ]
  },
  {
   "cell_type": "code",
   "execution_count": 17,
   "id": "b60e69be-f88e-41b5-b8f0-ed0d6a78041a",
   "metadata": {},
   "outputs": [
    {
     "data": {
      "text/plain": [
       "0.1833"
      ]
     },
     "execution_count": 17,
     "metadata": {},
     "output_type": "execute_result"
    }
   ],
   "source": [
    "Boron = x.SymbolToAtomicNumber(\"B\")\n",
    "ka1_energy = x.LineEnergy(Boron, x.KA1_LINE)\n",
    "ka1_energy"
   ]
  },
  {
   "cell_type": "code",
   "execution_count": 6,
   "id": "98c9c9c6-c147-4045-b547-f060a2fb0b49",
   "metadata": {},
   "outputs": [
    {
     "name": "stdout",
     "output_type": "stream",
     "text": [
      "L1->L3 Coster-Kronig transition probability for Fe: 0.57\n"
     ]
    }
   ],
   "source": [
    "x.XRayInit()\n",
    "fe_l1_l3_ck_prob = x.CosKronTransProb(26, x.FL13_TRANS)\n",
    "print(f\"L1->L3 Coster-Kronig transition probability for Fe: {fe_l1_l3_ck_prob}\")"
   ]
  },
  {
   "cell_type": "code",
   "execution_count": null,
   "id": "779312fc-ed74-4307-a156-080ad5d2c53a",
   "metadata": {},
   "outputs": [],
   "source": []
  }
 ],
 "metadata": {
  "kernelspec": {
   "display_name": "Python 3 (ipykernel)",
   "language": "python",
   "name": "python3"
  },
  "language_info": {
   "codemirror_mode": {
    "name": "ipython",
    "version": 3
   },
   "file_extension": ".py",
   "mimetype": "text/x-python",
   "name": "python",
   "nbconvert_exporter": "python",
   "pygments_lexer": "ipython3",
   "version": "3.10.18"
  }
 },
 "nbformat": 4,
 "nbformat_minor": 5
}
