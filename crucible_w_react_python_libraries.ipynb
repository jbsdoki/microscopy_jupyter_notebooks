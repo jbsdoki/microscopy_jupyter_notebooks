{
 "cells": [
  {
   "cell_type": "code",
   "execution_count": 2,
   "id": "49548028-42ea-4ddc-bfd0-913126fce22f",
   "metadata": {},
   "outputs": [],
   "source": [
    "import hyperspy.api as hs\n",
    "import xraylib as x\n",
    "import numpy as np\n",
    "import os\n",
    "\n",
    "from pathlib import Path"
   ]
  },
  {
   "cell_type": "code",
   "execution_count": 3,
   "id": "414af12a-e46e-4792-aae0-1bff7c96f893",
   "metadata": {},
   "outputs": [],
   "source": [
    "base_dir = Path(r'C:\\Users\\MF\\LBNL_git_repos\\react-explorers\\backend\\sample_data')"
   ]
  },
  {
   "cell_type": "code",
   "execution_count": 4,
   "id": "190c0379-67b6-4abf-b519-f7a70eee7660",
   "metadata": {},
   "outputs": [],
   "source": [
    "os.listdir(base_dir)\n",
    "signal_paths = list(base_dir.glob('*.emd'))"
   ]
  },
  {
   "cell_type": "code",
   "execution_count": 5,
   "id": "a2300916-e195-4d78-900c-a418439e086f",
   "metadata": {},
   "outputs": [
    {
     "name": "stdout",
     "output_type": "stream",
     "text": [
      "C:\\Users\\MF\\LBNL_git_repos\\react-explorers\\backend\\sample_data\\Copy of SI HAADF 1059 49000 x.emd\n",
      "C:\\Users\\MF\\LBNL_git_repos\\react-explorers\\backend\\sample_data\\Copy of SI HAADF 1119 49000 x.emd\n",
      "C:\\Users\\MF\\LBNL_git_repos\\react-explorers\\backend\\sample_data\\Copy of SI HAADF 1142 49000 x.emd\n",
      "C:\\Users\\MF\\LBNL_git_repos\\react-explorers\\backend\\sample_data\\Copy of SI HAADF 1202 49000 x.emd\n",
      "C:\\Users\\MF\\LBNL_git_repos\\react-explorers\\backend\\sample_data\\Copy_of_SI_HAADF_1038_49000_x.emd\n"
     ]
    }
   ],
   "source": [
    "for path in signal_paths:\n",
    "    print(path)"
   ]
  },
  {
   "cell_type": "markdown",
   "id": "8d2a4d48-48eb-4ffc-a2ee-29e8393be622",
   "metadata": {},
   "source": [
    "# Hyperspy Section"
   ]
  },
  {
   "cell_type": "markdown",
   "id": "b24acd97-d8f4-480f-8f98-237aee6fd1dc",
   "metadata": {},
   "source": [
    "## What HyperSpy Is Built For:\n",
    "Handling n-dimensional data (e.g., 2D images with 1D spectra at each pixel).\n",
    "\n",
    "Interactive visualization and analysis.\n",
    "\n",
    "Model fitting and decomposition (e.g., PCA, ICA, NMF).\n",
    "\n",
    "Export/import to/from common microscopy formats (e.g., .emd, .hdf5, .blo, etc.).\n",
    "\n",
    "## Core Concept: Signal\n",
    "At the heart of HyperSpy is the Signal class and its sub-classes. Think of a Signal as an enhanced NumPy array with metadata and built-in methods tailored for analysis.\n",
    "\n",
    "### Key Signal Types:\n",
    "Signal1D: For 1D spectra (e.g., EELS, EDX).\n",
    "\n",
    "Signal2D: For 2D images.\n",
    "\n",
    "ComplexSignal1D, ComplexSignal2D: Handle complex-valued data.\n",
    "\n",
    "Signal3D, etc.: For higher-dimensional data.\n",
    "\n",
    "## Useful Functions & Features:\n",
    "1. Loading Data\n",
    "import hyperspy.api as hs\n",
    "s = hs.load(\"myfile.dm3\")\n",
    "Automatically detects the signal type and loads metadata.\n",
    "\n",
    "2. Plotting\n",
    "s.plot()\n",
    "Opens an interactive GUI viewer — zoom, pan, and slice multi-dimensional data easily.\n",
    "\n",
    "3. Slicing and Navigation\n",
    "s.inav[10, 15]  # Access spectrum at pixel (10,15)\n",
    "4. Data Processing\n",
    "\n",
    "\n",
    "        s.decomposition() – Run PCA/ICA/NMF for dimensionality reduction.\n",
    "\n",
    "        s.estimate_noise_variance() – Estimate noise, important for denoising or fitting.\n",
    "\n",
    "        s.align2D() – Align images in a 2D signal.\n",
    "\n",
    "\n",
    "5. Model Fitting\n",
    "s.create_model()\n",
    "You can create a fitting model to extract quantitative data from spectra (e.g., Gaussian peak fitting, power-law background subtraction).\n",
    "\n",
    "6. Exporting\n",
    "s.save(\"processed.hspy\")"
   ]
  },
  {
   "cell_type": "code",
   "execution_count": 6,
   "id": "95a8cf35-f3cc-4a30-b9f1-f45ed97aac32",
   "metadata": {},
   "outputs": [],
   "source": [
    "signal1 = hs.load(signal_paths[0])"
   ]
  },
  {
   "cell_type": "code",
   "execution_count": 7,
   "id": "203ec984-99ae-4d0c-926e-e314ec870e28",
   "metadata": {},
   "outputs": [
    {
     "data": {
      "text/plain": [
       "[<EDSTEMSpectrum, title: EDS, dimensions: (|4096)>,\n",
       " <EDSTEMSpectrum, title: EDS, dimensions: (|4096)>,\n",
       " <EDSTEMSpectrum, title: EDS, dimensions: (|4096)>,\n",
       " <EDSTEMSpectrum, title: EDS, dimensions: (|4096)>,\n",
       " <Signal2D, title: Al, dimensions: (|400, 400)>,\n",
       " <Signal2D, title: Si, dimensions: (|400, 400)>,\n",
       " <Signal2D, title: Na, dimensions: (|400, 400)>,\n",
       " <Signal2D, title: K, dimensions: (|400, 400)>,\n",
       " <Signal2D, title: Ba, dimensions: (|400, 400)>,\n",
       " <Signal2D, title: HAADF, dimensions: (|400, 400)>,\n",
       " <Signal2D, title: Fe, dimensions: (|400, 400)>,\n",
       " <Signal2D, title: Rb, dimensions: (|400, 400)>,\n",
       " <Signal2D, title: O, dimensions: (|400, 400)>,\n",
       " <EDSTEMSpectrum, title: EDS, dimensions: (400, 400|4096)>]"
      ]
     },
     "execution_count": 7,
     "metadata": {},
     "output_type": "execute_result"
    }
   ],
   "source": [
    "signal1"
   ]
  },
  {
   "cell_type": "code",
   "execution_count": 8,
   "id": "f577d9ac-8c38-468b-84f2-e4913dddb682",
   "metadata": {},
   "outputs": [
    {
     "data": {
      "text/plain": [
       "exspy.signals.eds_tem.EDSTEMSpectrum"
      ]
     },
     "execution_count": 8,
     "metadata": {},
     "output_type": "execute_result"
    }
   ],
   "source": [
    "type(signal1[0])"
   ]
  },
  {
   "cell_type": "code",
   "execution_count": 9,
   "id": "7b6a6017-584e-4864-86ca-b5715d59b091",
   "metadata": {},
   "outputs": [
    {
     "data": {
      "text/plain": [
       "numpy.ndarray"
      ]
     },
     "execution_count": 9,
     "metadata": {},
     "output_type": "execute_result"
    }
   ],
   "source": [
    "type(signal1[0].data)"
   ]
  },
  {
   "cell_type": "code",
   "execution_count": 10,
   "id": "b3697423-1be0-4587-812b-e0c518a145c0",
   "metadata": {},
   "outputs": [
    {
     "data": {
      "text/plain": [
       "array([0, 0, 0, ..., 0, 0, 0], shape=(4096,), dtype=uint32)"
      ]
     },
     "execution_count": 10,
     "metadata": {},
     "output_type": "execute_result"
    }
   ],
   "source": [
    "signal1[0].data"
   ]
  },
  {
   "cell_type": "code",
   "execution_count": 11,
   "id": "aa308a8c-fb3d-4af0-85d8-bef6e1035a6a",
   "metadata": {},
   "outputs": [
    {
     "data": {
      "text/plain": [
       "(4096,)"
      ]
     },
     "execution_count": 11,
     "metadata": {},
     "output_type": "execute_result"
    }
   ],
   "source": [
    "signal1[0].data.shape"
   ]
  },
  {
   "cell_type": "code",
   "execution_count": 12,
   "id": "6a459cca-1727-416e-b093-16bfb5fb14a2",
   "metadata": {},
   "outputs": [
    {
     "data": {
      "text/plain": [
       "hyperspy.misc.utils.DictionaryTreeBrowser"
      ]
     },
     "execution_count": 12,
     "metadata": {},
     "output_type": "execute_result"
    }
   ],
   "source": [
    "type(signal1[0].metadata)"
   ]
  },
  {
   "cell_type": "code",
   "execution_count": 13,
   "id": "ad2b16f2-e8c8-42ae-bfae-d1412a51117e",
   "metadata": {},
   "outputs": [
    {
     "data": {
      "text/html": [
       "<ul style=\"margin: 0px; list-style-position: outside;\">\n",
       "                    <details open>\n",
       "                    <summary style=\"display: list-item;\">\n",
       "                    <li style=\"display: inline;\">\n",
       "                    Acquisition_instrument\n",
       "                    </li></summary>\n",
       "                    <ul style=\"margin: 0px; list-style-position: outside;\">\n",
       "                    <details closed>\n",
       "                    <summary style=\"display: list-item;\">\n",
       "                    <li style=\"display: inline;\">\n",
       "                    TEM\n",
       "                    </li></summary>\n",
       "                    <ul style=\"margin: 0px; list-style-position: outside;\">\n",
       "                    <details closed>\n",
       "                    <summary style=\"display: list-item;\">\n",
       "                    <li style=\"display: inline;\">\n",
       "                    Detector\n",
       "                    </li></summary>\n",
       "                    <ul style=\"margin: 0px; list-style-position: outside;\">\n",
       "                    <details closed>\n",
       "                    <summary style=\"display: list-item;\">\n",
       "                    <li style=\"display: inline;\">\n",
       "                    EDS\n",
       "                    </li></summary>\n",
       "                    \n",
       "    <ul style=\"margin: 0px; list-style-position: outside;\">\n",
       "    <li style='margin-left:1em; padding-left: 0.5em'>azimuth_angle = 0.0</li></ul>\n",
       "    \n",
       "    <ul style=\"margin: 0px; list-style-position: outside;\">\n",
       "    <li style='margin-left:1em; padding-left: 0.5em'>elevation_angle = 35.0</li></ul>\n",
       "    \n",
       "    <ul style=\"margin: 0px; list-style-position: outside;\">\n",
       "    <li style='margin-left:1em; padding-left: 0.5em'>energy_resolution_MnKa = 130.0</li></ul>\n",
       "    </details></ul></details></ul><ul style=\"margin: 0px; list-style-position: outside;\">\n",
       "                    <details closed>\n",
       "                    <summary style=\"display: list-item;\">\n",
       "                    <li style=\"display: inline;\">\n",
       "                    Stage\n",
       "                    </li></summary>\n",
       "                    \n",
       "    <ul style=\"margin: 0px; list-style-position: outside;\">\n",
       "    <li style='margin-left:1em; padding-left: 0.5em'>tilt_alpha = np.float64(0.0)</li></ul>\n",
       "    \n",
       "    <ul style=\"margin: 0px; list-style-position: outside;\">\n",
       "    <li style='margin-left:1em; padding-left: 0.5em'>tilt_beta = np.float64(0.0)</li></ul>\n",
       "    \n",
       "    <ul style=\"margin: 0px; list-style-position: outside;\">\n",
       "    <li style='margin-left:1em; padding-left: 0.5em'>x = -3.5e-05</li></ul>\n",
       "    \n",
       "    <ul style=\"margin: 0px; list-style-position: outside;\">\n",
       "    <li style='margin-left:1em; padding-left: 0.5em'>y = -0.000571</li></ul>\n",
       "    \n",
       "    <ul style=\"margin: 0px; list-style-position: outside;\">\n",
       "    <li style='margin-left:1em; padding-left: 0.5em'>z = -8e-05</li></ul>\n",
       "    </details></ul>\n",
       "    <ul style=\"margin: 0px; list-style-position: outside;\">\n",
       "    <li style='margin-left:1em; padding-left: 0.5em'>beam_energy = 60.0</li></ul>\n",
       "    \n",
       "    <ul style=\"margin: 0px; list-style-position: outside;\">\n",
       "    <li style='margin-left:1em; padding-left: 0.5em'>camera_length = 196.0</li></ul>\n",
       "    \n",
       "    <ul style=\"margin: 0px; list-style-position: outside;\">\n",
       "    <li style='margin-left:1em; padding-left: 0.5em'>magnification = 28500.0</li></ul>\n",
       "    \n",
       "    <ul style=\"margin: 0px; list-style-position: outside;\">\n",
       "    <li style='margin-left:1em; padding-left: 0.5em'>microscope = Titan</li></ul>\n",
       "    </details></ul></details></ul><ul style=\"margin: 0px; list-style-position: outside;\">\n",
       "                    <details open>\n",
       "                    <summary style=\"display: list-item;\">\n",
       "                    <li style=\"display: inline;\">\n",
       "                    General\n",
       "                    </li></summary>\n",
       "                    <ul style=\"margin: 0px; list-style-position: outside;\">\n",
       "                    <details closed>\n",
       "                    <summary style=\"display: list-item;\">\n",
       "                    <li style=\"display: inline;\">\n",
       "                    FileIO\n",
       "                    </li></summary>\n",
       "                    <ul style=\"margin: 0px; list-style-position: outside;\">\n",
       "                    <details closed>\n",
       "                    <summary style=\"display: list-item;\">\n",
       "                    <li style=\"display: inline;\">\n",
       "                    0\n",
       "                    </li></summary>\n",
       "                    \n",
       "    <ul style=\"margin: 0px; list-style-position: outside;\">\n",
       "    <li style='margin-left:1em; padding-left: 0.5em'>hyperspy_version = 2.3.0</li></ul>\n",
       "    \n",
       "    <ul style=\"margin: 0px; list-style-position: outside;\">\n",
       "    <li style='margin-left:1em; padding-left: 0.5em'>io_plugin = rsciio.emd</li></ul>\n",
       "    \n",
       "    <ul style=\"margin: 0px; list-style-position: outside;\">\n",
       "    <li style='margin-left:1em; padding-left: 0.5em'>operation = load</li></ul>\n",
       "    \n",
       "    <ul style=\"margin: 0px; list-style-position: outside;\">\n",
       "    <li style='margin-left:1em; padding-left: 0.5em'>timestamp = 2025-07-03T12:14:31.284929-07:00</li></ul>\n",
       "    </details></ul></details></ul>\n",
       "    <ul style=\"margin: 0px; list-style-position: outside;\">\n",
       "    <li style='margin-left:1em; padding-left: 0.5em'>date = 2024-10-16</li></ul>\n",
       "    \n",
       "    <ul style=\"margin: 0px; list-style-position: outside;\">\n",
       "    <li style='margin-left:1em; padding-left: 0.5em'>original_filename = Copy of SI HAADF 1059 49000 x.emd</li></ul>\n",
       "    \n",
       "    <ul style=\"margin: 0px; list-style-position: outside;\">\n",
       "    <li style='margin-left:1em; padding-left: 0.5em'>time = 10:59:27-07:00</li></ul>\n",
       "    \n",
       "    <ul style=\"margin: 0px; list-style-position: outside;\">\n",
       "    <li style='margin-left:1em; padding-left: 0.5em'>time_zone = Pacific Daylight Time</li></ul>\n",
       "    \n",
       "    <ul style=\"margin: 0px; list-style-position: outside;\">\n",
       "    <li style='margin-left:1em; padding-left: 0.5em'>title = EDS</li></ul>\n",
       "    </details></ul><ul style=\"margin: 0px; list-style-position: outside;\">\n",
       "                    <details open>\n",
       "                    <summary style=\"display: list-item;\">\n",
       "                    <li style=\"display: inline;\">\n",
       "                    Sample\n",
       "                    </li></summary>\n",
       "                    \n",
       "    <ul style=\"margin: 0px; list-style-position: outside;\">\n",
       "    <li style='margin-left:1em; padding-left: 0.5em'>elements = ['O', 'Na', 'Al', 'Si', 'K', 'Fe', 'Rb', 'Ba']</li></ul>\n",
       "    </details></ul><ul style=\"margin: 0px; list-style-position: outside;\">\n",
       "                    <details open>\n",
       "                    <summary style=\"display: list-item;\">\n",
       "                    <li style=\"display: inline;\">\n",
       "                    Signal\n",
       "                    </li></summary>\n",
       "                    \n",
       "    <ul style=\"margin: 0px; list-style-position: outside;\">\n",
       "    <li style='margin-left:1em; padding-left: 0.5em'>signal_type = EDS_TEM</li></ul>\n",
       "    </details></ul>"
      ],
      "text/plain": [
       "├── Acquisition_instrument\n",
       "│   └── TEM\n",
       "│       ├── Detector\n",
       "│       │   └── EDS\n",
       "│       │       ├── azimuth_angle = 0.0\n",
       "│       │       ├── elevation_angle = 35.0\n",
       "│       │       └── energy_resolution_MnKa = 130.0\n",
       "│       ├── Stage\n",
       "│       │   ├── tilt_alpha = np.float64(0.0)\n",
       "│       │   ├── tilt_beta = np.float64(0.0)\n",
       "│       │   ├── x = -3.5e-05\n",
       "│       │   ├── y = -0.000571\n",
       "│       │   └── z = -8e-05\n",
       "│       ├── beam_energy = 60.0\n",
       "│       ├── camera_length = 196.0\n",
       "│       ├── magnification = 28500.0\n",
       "│       └── microscope = Titan\n",
       "├── General\n",
       "│   ├── FileIO\n",
       "│   │   └── 0\n",
       "│   │       ├── hyperspy_version = 2.3.0\n",
       "│   │       ├── io_plugin = rsciio.emd\n",
       "│   │       ├── operation = load\n",
       "│   │       └── timestamp = 2025-07-03T12:14:31.284929-07:00\n",
       "│   ├── date = 2024-10-16\n",
       "│   ├── original_filename = Copy of SI HAADF 1059 49000 x.emd\n",
       "│   ├── time = 10:59:27-07:00\n",
       "│   ├── time_zone = Pacific Daylight Time\n",
       "│   └── title = EDS\n",
       "├── Sample\n",
       "│   └── elements = ['O', 'Na', 'Al', 'Si', 'K', 'Fe', 'Rb', 'Ba']\n",
       "└── Signal\n",
       "    └── signal_type = EDS_TEM"
      ]
     },
     "execution_count": 13,
     "metadata": {},
     "output_type": "execute_result"
    }
   ],
   "source": [
    "signal1[0].metadata"
   ]
  },
  {
   "cell_type": "markdown",
   "id": "9a25d904-b1d8-4e04-a469-9acf90b37017",
   "metadata": {},
   "source": [
    "### Axes Manager stores the information necessary to get the frequency of data stored by the EDSTEM Spectrum\n",
    "frequency = offset + scale * index  \n",
    "reversing:  \n",
    "index = (frequency - offset) / scale"
   ]
  },
  {
   "cell_type": "code",
   "execution_count": 14,
   "id": "3ef53339-7b70-48ae-b9af-3048c07c25ad",
   "metadata": {},
   "outputs": [
    {
     "data": {
      "text/plain": [
       "hyperspy.axes.AxesManager"
      ]
     },
     "execution_count": 14,
     "metadata": {},
     "output_type": "execute_result"
    }
   ],
   "source": [
    "type(signal1[0].axes_manager)"
   ]
  },
  {
   "cell_type": "code",
   "execution_count": 15,
   "id": "755e8768-f1cc-4ca6-abfd-730f35ba064a",
   "metadata": {},
   "outputs": [
    {
     "data": {
      "text/html": [
       "<style>\n",
       "table, th, td {\n",
       "\tborder: 1px solid black;\n",
       "\tborder-collapse: collapse;\n",
       "}\n",
       "th, td {\n",
       "\tpadding: 5px;\n",
       "}\n",
       "</style>\n",
       "<p><b>< Axes manager, axes: (|4096) ></b></p>\n",
       "<table style='width:100%'>\n",
       "\n",
       "<tr> \n",
       "<th>Signal axis name</th> \n",
       "<th>size</th> \n",
       "<th></th> \n",
       "<th>offset</th> \n",
       "<th>scale</th> \n",
       "<th>units</th> </tr>\n",
       "<tr> \n",
       "<td>Energy</td> \n",
       "<td>4096</td> \n",
       "<td></td> \n",
       "<td>-1.0</td> \n",
       "<td>0.01</td> \n",
       "<td>keV</td> </tr></table>\n"
      ],
      "text/plain": [
       "<Axes manager, axes: (|4096)>\n",
       "            Name |   size |  index |  offset |   scale |  units \n",
       "================ | ====== | ====== | ======= | ======= | ====== \n",
       "---------------- | ------ | ------ | ------- | ------- | ------ \n",
       "          Energy |   4096 |      0 |      -1 |    0.01 |    keV "
      ]
     },
     "execution_count": 15,
     "metadata": {},
     "output_type": "execute_result"
    }
   ],
   "source": [
    "signal1[0].axes_manager"
   ]
  },
  {
   "cell_type": "code",
   "execution_count": 16,
   "id": "ecbbefc0-7c74-4c6f-832f-dc99c27e9cf0",
   "metadata": {},
   "outputs": [
    {
     "data": {
      "text/plain": [
       "-1.0"
      ]
     },
     "execution_count": 16,
     "metadata": {},
     "output_type": "execute_result"
    }
   ],
   "source": [
    "signal1[0].axes_manager[0].offset"
   ]
  },
  {
   "cell_type": "code",
   "execution_count": 17,
   "id": "a7f4e78b-b222-476e-a230-e7c6c74e9583",
   "metadata": {},
   "outputs": [
    {
     "data": {
      "text/plain": [
       "0.01"
      ]
     },
     "execution_count": 17,
     "metadata": {},
     "output_type": "execute_result"
    }
   ],
   "source": [
    "signal1[0].axes_manager[0].scale"
   ]
  },
  {
   "cell_type": "code",
   "execution_count": 18,
   "id": "274dc885-ffc0-4619-adce-829d868c72f0",
   "metadata": {},
   "outputs": [
    {
     "data": {
      "text/plain": [
       "'keV'"
      ]
     },
     "execution_count": 18,
     "metadata": {},
     "output_type": "execute_result"
    }
   ],
   "source": [
    "signal1[0].axes_manager[0].units"
   ]
  },
  {
   "cell_type": "code",
   "execution_count": 19,
   "id": "7e71aac3-1965-470d-af30-7a15e32b7520",
   "metadata": {},
   "outputs": [
    {
     "data": {
      "text/plain": [
       "<EDSTEMSpectrum, title: EDS, dimensions: (400, 400|4096)>"
      ]
     },
     "execution_count": 19,
     "metadata": {},
     "output_type": "execute_result"
    }
   ],
   "source": [
    "signal1[13]"
   ]
  },
  {
   "cell_type": "code",
   "execution_count": 20,
   "id": "39d5a88f-885d-4245-8c31-c28ce1effe05",
   "metadata": {
    "scrolled": true
   },
   "outputs": [
    {
     "data": {
      "text/plain": [
       "array([[[0, 0, 0, ..., 0, 0, 0],\n",
       "        [0, 0, 0, ..., 0, 0, 0],\n",
       "        [0, 0, 0, ..., 0, 0, 0],\n",
       "        ...,\n",
       "        [0, 0, 0, ..., 0, 0, 0],\n",
       "        [0, 0, 0, ..., 0, 0, 0],\n",
       "        [0, 0, 0, ..., 0, 0, 0]],\n",
       "\n",
       "       [[0, 0, 0, ..., 0, 0, 0],\n",
       "        [0, 0, 0, ..., 0, 0, 0],\n",
       "        [0, 0, 0, ..., 0, 0, 0],\n",
       "        ...,\n",
       "        [0, 0, 0, ..., 0, 0, 0],\n",
       "        [0, 0, 0, ..., 0, 0, 0],\n",
       "        [0, 0, 0, ..., 0, 0, 0]],\n",
       "\n",
       "       [[0, 0, 0, ..., 0, 0, 0],\n",
       "        [0, 0, 0, ..., 0, 0, 0],\n",
       "        [0, 0, 0, ..., 0, 0, 0],\n",
       "        ...,\n",
       "        [0, 0, 0, ..., 0, 0, 0],\n",
       "        [0, 0, 0, ..., 0, 0, 0],\n",
       "        [0, 0, 0, ..., 0, 0, 0]],\n",
       "\n",
       "       ...,\n",
       "\n",
       "       [[0, 0, 0, ..., 0, 0, 0],\n",
       "        [0, 0, 0, ..., 0, 0, 0],\n",
       "        [0, 0, 0, ..., 0, 0, 0],\n",
       "        ...,\n",
       "        [0, 0, 0, ..., 0, 0, 0],\n",
       "        [0, 0, 0, ..., 0, 0, 0],\n",
       "        [0, 0, 0, ..., 0, 0, 0]],\n",
       "\n",
       "       [[0, 0, 0, ..., 0, 0, 0],\n",
       "        [0, 0, 0, ..., 0, 0, 0],\n",
       "        [0, 0, 0, ..., 0, 0, 0],\n",
       "        ...,\n",
       "        [0, 0, 0, ..., 0, 0, 0],\n",
       "        [0, 0, 0, ..., 0, 0, 0],\n",
       "        [0, 0, 0, ..., 0, 0, 0]],\n",
       "\n",
       "       [[0, 0, 0, ..., 0, 0, 0],\n",
       "        [0, 0, 0, ..., 0, 0, 0],\n",
       "        [0, 0, 0, ..., 0, 0, 0],\n",
       "        ...,\n",
       "        [0, 0, 0, ..., 0, 0, 0],\n",
       "        [0, 0, 0, ..., 0, 0, 0],\n",
       "        [0, 0, 0, ..., 0, 0, 0]]], shape=(400, 400, 4096), dtype=uint16)"
      ]
     },
     "execution_count": 20,
     "metadata": {},
     "output_type": "execute_result"
    }
   ],
   "source": [
    "signal1[13].data"
   ]
  },
  {
   "cell_type": "code",
   "execution_count": 20,
   "id": "9796aadd-6f03-4e92-86ab-05cbea91006b",
   "metadata": {},
   "outputs": [
    {
     "data": {
      "text/plain": [
       "(400, 400, 4096)"
      ]
     },
     "execution_count": 20,
     "metadata": {},
     "output_type": "execute_result"
    }
   ],
   "source": [
    "signal1[13].data.shape"
   ]
  },
  {
   "cell_type": "code",
   "execution_count": 21,
   "id": "3be88e3f-3a15-457b-aa70-1c78cd25279a",
   "metadata": {},
   "outputs": [
    {
     "data": {
      "text/html": [
       "<ul style=\"margin: 0px; list-style-position: outside;\">\n",
       "                    <details open>\n",
       "                    <summary style=\"display: list-item;\">\n",
       "                    <li style=\"display: inline;\">\n",
       "                    Acquisition_instrument\n",
       "                    </li></summary>\n",
       "                    <ul style=\"margin: 0px; list-style-position: outside;\">\n",
       "                    <details closed>\n",
       "                    <summary style=\"display: list-item;\">\n",
       "                    <li style=\"display: inline;\">\n",
       "                    TEM\n",
       "                    </li></summary>\n",
       "                    <ul style=\"margin: 0px; list-style-position: outside;\">\n",
       "                    <details closed>\n",
       "                    <summary style=\"display: list-item;\">\n",
       "                    <li style=\"display: inline;\">\n",
       "                    Detector\n",
       "                    </li></summary>\n",
       "                    <ul style=\"margin: 0px; list-style-position: outside;\">\n",
       "                    <details closed>\n",
       "                    <summary style=\"display: list-item;\">\n",
       "                    <li style=\"display: inline;\">\n",
       "                    EDS\n",
       "                    </li></summary>\n",
       "                    \n",
       "    <ul style=\"margin: 0px; list-style-position: outside;\">\n",
       "    <li style='margin-left:1em; padding-left: 0.5em'>azimuth_angle = 0.0</li></ul>\n",
       "    \n",
       "    <ul style=\"margin: 0px; list-style-position: outside;\">\n",
       "    <li style='margin-left:1em; padding-left: 0.5em'>elevation_angle = 35.0</li></ul>\n",
       "    \n",
       "    <ul style=\"margin: 0px; list-style-position: outside;\">\n",
       "    <li style='margin-left:1em; padding-left: 0.5em'>energy_resolution_MnKa = 130.0</li></ul>\n",
       "    \n",
       "    <ul style=\"margin: 0px; list-style-position: outside;\">\n",
       "    <li style='margin-left:1em; padding-left: 0.5em'>number_of_frames = 200</li></ul>\n",
       "    </details></ul></details></ul><ul style=\"margin: 0px; list-style-position: outside;\">\n",
       "                    <details closed>\n",
       "                    <summary style=\"display: list-item;\">\n",
       "                    <li style=\"display: inline;\">\n",
       "                    Stage\n",
       "                    </li></summary>\n",
       "                    \n",
       "    <ul style=\"margin: 0px; list-style-position: outside;\">\n",
       "    <li style='margin-left:1em; padding-left: 0.5em'>tilt_alpha = np.float64(0.0)</li></ul>\n",
       "    \n",
       "    <ul style=\"margin: 0px; list-style-position: outside;\">\n",
       "    <li style='margin-left:1em; padding-left: 0.5em'>tilt_beta = np.float64(0.0)</li></ul>\n",
       "    \n",
       "    <ul style=\"margin: 0px; list-style-position: outside;\">\n",
       "    <li style='margin-left:1em; padding-left: 0.5em'>x = -3.5e-05</li></ul>\n",
       "    \n",
       "    <ul style=\"margin: 0px; list-style-position: outside;\">\n",
       "    <li style='margin-left:1em; padding-left: 0.5em'>y = -0.000571</li></ul>\n",
       "    \n",
       "    <ul style=\"margin: 0px; list-style-position: outside;\">\n",
       "    <li style='margin-left:1em; padding-left: 0.5em'>z = -8e-05</li></ul>\n",
       "    </details></ul>\n",
       "    <ul style=\"margin: 0px; list-style-position: outside;\">\n",
       "    <li style='margin-left:1em; padding-left: 0.5em'>beam_energy = 60.0</li></ul>\n",
       "    \n",
       "    <ul style=\"margin: 0px; list-style-position: outside;\">\n",
       "    <li style='margin-left:1em; padding-left: 0.5em'>camera_length = 196.0</li></ul>\n",
       "    \n",
       "    <ul style=\"margin: 0px; list-style-position: outside;\">\n",
       "    <li style='margin-left:1em; padding-left: 0.5em'>magnification = 28500.0</li></ul>\n",
       "    \n",
       "    <ul style=\"margin: 0px; list-style-position: outside;\">\n",
       "    <li style='margin-left:1em; padding-left: 0.5em'>microscope = Titan</li></ul>\n",
       "    </details></ul></details></ul><ul style=\"margin: 0px; list-style-position: outside;\">\n",
       "                    <details open>\n",
       "                    <summary style=\"display: list-item;\">\n",
       "                    <li style=\"display: inline;\">\n",
       "                    General\n",
       "                    </li></summary>\n",
       "                    <ul style=\"margin: 0px; list-style-position: outside;\">\n",
       "                    <details closed>\n",
       "                    <summary style=\"display: list-item;\">\n",
       "                    <li style=\"display: inline;\">\n",
       "                    FileIO\n",
       "                    </li></summary>\n",
       "                    <ul style=\"margin: 0px; list-style-position: outside;\">\n",
       "                    <details closed>\n",
       "                    <summary style=\"display: list-item;\">\n",
       "                    <li style=\"display: inline;\">\n",
       "                    0\n",
       "                    </li></summary>\n",
       "                    \n",
       "    <ul style=\"margin: 0px; list-style-position: outside;\">\n",
       "    <li style='margin-left:1em; padding-left: 0.5em'>hyperspy_version = 2.3.0</li></ul>\n",
       "    \n",
       "    <ul style=\"margin: 0px; list-style-position: outside;\">\n",
       "    <li style='margin-left:1em; padding-left: 0.5em'>io_plugin = rsciio.emd</li></ul>\n",
       "    \n",
       "    <ul style=\"margin: 0px; list-style-position: outside;\">\n",
       "    <li style='margin-left:1em; padding-left: 0.5em'>operation = load</li></ul>\n",
       "    \n",
       "    <ul style=\"margin: 0px; list-style-position: outside;\">\n",
       "    <li style='margin-left:1em; padding-left: 0.5em'>timestamp = 2025-07-03T11:20:25.600131-07:00</li></ul>\n",
       "    </details></ul></details></ul>\n",
       "    <ul style=\"margin: 0px; list-style-position: outside;\">\n",
       "    <li style='margin-left:1em; padding-left: 0.5em'>date = 2024-10-16</li></ul>\n",
       "    \n",
       "    <ul style=\"margin: 0px; list-style-position: outside;\">\n",
       "    <li style='margin-left:1em; padding-left: 0.5em'>original_filename = Copy of SI HAADF 1059 49000 x.emd</li></ul>\n",
       "    \n",
       "    <ul style=\"margin: 0px; list-style-position: outside;\">\n",
       "    <li style='margin-left:1em; padding-left: 0.5em'>time = 10:59:27-07:00</li></ul>\n",
       "    \n",
       "    <ul style=\"margin: 0px; list-style-position: outside;\">\n",
       "    <li style='margin-left:1em; padding-left: 0.5em'>time_zone = Pacific Daylight Time</li></ul>\n",
       "    \n",
       "    <ul style=\"margin: 0px; list-style-position: outside;\">\n",
       "    <li style='margin-left:1em; padding-left: 0.5em'>title = EDS</li></ul>\n",
       "    </details></ul><ul style=\"margin: 0px; list-style-position: outside;\">\n",
       "                    <details open>\n",
       "                    <summary style=\"display: list-item;\">\n",
       "                    <li style=\"display: inline;\">\n",
       "                    Sample\n",
       "                    </li></summary>\n",
       "                    \n",
       "    <ul style=\"margin: 0px; list-style-position: outside;\">\n",
       "    <li style='margin-left:1em; padding-left: 0.5em'>elements = ['O', 'Na', 'Al', 'Si', 'K', 'Fe', 'Rb', 'Ba']</li></ul>\n",
       "    </details></ul><ul style=\"margin: 0px; list-style-position: outside;\">\n",
       "                    <details open>\n",
       "                    <summary style=\"display: list-item;\">\n",
       "                    <li style=\"display: inline;\">\n",
       "                    Signal\n",
       "                    </li></summary>\n",
       "                    \n",
       "    <ul style=\"margin: 0px; list-style-position: outside;\">\n",
       "    <li style='margin-left:1em; padding-left: 0.5em'>signal_type = EDS_TEM</li></ul>\n",
       "    </details></ul>"
      ],
      "text/plain": [
       "├── Acquisition_instrument\n",
       "│   └── TEM\n",
       "│       ├── Detector\n",
       "│       │   └── EDS\n",
       "│       │       ├── azimuth_angle = 0.0\n",
       "│       │       ├── elevation_angle = 35.0\n",
       "│       │       ├── energy_resolution_MnKa = 130.0\n",
       "│       │       └── number_of_frames = 200\n",
       "│       ├── Stage\n",
       "│       │   ├── tilt_alpha = np.float64(0.0)\n",
       "│       │   ├── tilt_beta = np.float64(0.0)\n",
       "│       │   ├── x = -3.5e-05\n",
       "│       │   ├── y = -0.000571\n",
       "│       │   └── z = -8e-05\n",
       "│       ├── beam_energy = 60.0\n",
       "│       ├── camera_length = 196.0\n",
       "│       ├── magnification = 28500.0\n",
       "│       └── microscope = Titan\n",
       "├── General\n",
       "│   ├── FileIO\n",
       "│   │   └── 0\n",
       "│   │       ├── hyperspy_version = 2.3.0\n",
       "│   │       ├── io_plugin = rsciio.emd\n",
       "│   │       ├── operation = load\n",
       "│   │       └── timestamp = 2025-07-03T11:20:25.600131-07:00\n",
       "│   ├── date = 2024-10-16\n",
       "│   ├── original_filename = Copy of SI HAADF 1059 49000 x.emd\n",
       "│   ├── time = 10:59:27-07:00\n",
       "│   ├── time_zone = Pacific Daylight Time\n",
       "│   └── title = EDS\n",
       "├── Sample\n",
       "│   └── elements = ['O', 'Na', 'Al', 'Si', 'K', 'Fe', 'Rb', 'Ba']\n",
       "└── Signal\n",
       "    └── signal_type = EDS_TEM"
      ]
     },
     "execution_count": 21,
     "metadata": {},
     "output_type": "execute_result"
    }
   ],
   "source": [
    "signal1[13].metadata"
   ]
  },
  {
   "cell_type": "markdown",
   "id": "b10532ae-1e02-4a3c-aa78-4efafd0a8bca",
   "metadata": {},
   "source": [
    "## Hyperspy signal Axis Manager"
   ]
  },
  {
   "cell_type": "code",
   "execution_count": 22,
   "id": "4fea82dc-70d7-432d-b80f-10e7397c66f4",
   "metadata": {},
   "outputs": [
    {
     "data": {
      "text/html": [
       "<style>\n",
       "table, th, td {\n",
       "\tborder: 1px solid black;\n",
       "\tborder-collapse: collapse;\n",
       "}\n",
       "th, td {\n",
       "\tpadding: 5px;\n",
       "}\n",
       "</style>\n",
       "<p><b>< Axes manager, axes: (400, 400|4096) ></b></p>\n",
       "<table style='width:100%'>\n",
       "\n",
       "<tr> \n",
       "<th>Navigation axis name</th> \n",
       "<th>size</th> \n",
       "<th>index</th> \n",
       "<th>offset</th> \n",
       "<th>scale</th> \n",
       "<th>units</th> </tr>\n",
       "<tr> \n",
       "<td>x</td> \n",
       "<td>400</td> \n",
       "<td>0</td> \n",
       "<td>-430.64634577704004</td> \n",
       "<td>2.0030062594280933</td> \n",
       "<td>nm</td> </tr>\n",
       "<tr> \n",
       "<td>y</td> \n",
       "<td>400</td> \n",
       "<td>0</td> \n",
       "<td>-386.580208069622</td> \n",
       "<td>2.0030062594280933</td> \n",
       "<td>nm</td> </tr></table>\n",
       "<table style='width:100%'>\n",
       "\n",
       "<tr> \n",
       "<th>Signal axis name</th> \n",
       "<th>size</th> \n",
       "<th></th> \n",
       "<th>offset</th> \n",
       "<th>scale</th> \n",
       "<th>units</th> </tr>\n",
       "<tr> \n",
       "<td>X-ray energy</td> \n",
       "<td>4096</td> \n",
       "<td></td> \n",
       "<td>-1.0</td> \n",
       "<td>0.01</td> \n",
       "<td>keV</td> </tr></table>\n"
      ],
      "text/plain": [
       "<Axes manager, axes: (400, 400|4096)>\n",
       "            Name |   size |  index |  offset |   scale |  units \n",
       "================ | ====== | ====== | ======= | ======= | ====== \n",
       "               x |    400 |      0 | -4.3e+02 |       2 |     nm \n",
       "               y |    400 |      0 | -3.9e+02 |       2 |     nm \n",
       "---------------- | ------ | ------ | ------- | ------- | ------ \n",
       "    X-ray energy |   4096 |      0 |      -1 |    0.01 |    keV "
      ]
     },
     "execution_count": 22,
     "metadata": {},
     "output_type": "execute_result"
    }
   ],
   "source": [
    "signal1[13].axes_manager"
   ]
  },
  {
   "cell_type": "code",
   "execution_count": 30,
   "id": "6a56f4f0-6c36-49d7-b8f3-b9faaf867834",
   "metadata": {},
   "outputs": [
    {
     "data": {
      "text/plain": [
       "<x axis, size: 400, index: 0>"
      ]
     },
     "execution_count": 30,
     "metadata": {},
     "output_type": "execute_result"
    }
   ],
   "source": [
    "signal1[13].axes_manager[0]"
   ]
  },
  {
   "cell_type": "code",
   "execution_count": 31,
   "id": "9183875f-42b7-4b31-a8cb-b7327ac58f45",
   "metadata": {},
   "outputs": [
    {
     "data": {
      "text/plain": [
       "array([-430.64634578, -428.64333952, -426.64033326, -424.637327  ,\n",
       "       -422.63432074, -420.63131448, -418.62830822, -416.62530196,\n",
       "       -414.6222957 , -412.61928944, -410.61628318, -408.61327692,\n",
       "       -406.61027066, -404.6072644 , -402.60425815, -400.60125189,\n",
       "       -398.59824563, -396.59523937, -394.59223311, -392.58922685,\n",
       "       -390.58622059, -388.58321433, -386.58020807, -384.57720181,\n",
       "       -382.57419555, -380.57118929, -378.56818303, -376.56517677,\n",
       "       -374.56217051, -372.55916425, -370.55615799, -368.55315173,\n",
       "       -366.55014548, -364.54713922, -362.54413296, -360.5411267 ,\n",
       "       -358.53812044, -356.53511418, -354.53210792, -352.52910166,\n",
       "       -350.5260954 , -348.52308914, -346.52008288, -344.51707662,\n",
       "       -342.51407036, -340.5110641 , -338.50805784, -336.50505158,\n",
       "       -334.50204532, -332.49903907, -330.49603281, -328.49302655,\n",
       "       -326.49002029, -324.48701403, -322.48400777, -320.48100151,\n",
       "       -318.47799525, -316.47498899, -314.47198273, -312.46897647,\n",
       "       -310.46597021, -308.46296395, -306.45995769, -304.45695143,\n",
       "       -302.45394517, -300.45093891, -298.44793265, -296.4449264 ,\n",
       "       -294.44192014, -292.43891388, -290.43590762, -288.43290136,\n",
       "       -286.4298951 , -284.42688884, -282.42388258, -280.42087632,\n",
       "       -278.41787006, -276.4148638 , -274.41185754, -272.40885128,\n",
       "       -270.40584502, -268.40283876, -266.3998325 , -264.39682624,\n",
       "       -262.39381999, -260.39081373, -258.38780747, -256.38480121,\n",
       "       -254.38179495, -252.37878869, -250.37578243, -248.37277617,\n",
       "       -246.36976991, -244.36676365, -242.36375739, -240.36075113,\n",
       "       -238.35774487, -236.35473861, -234.35173235, -232.34872609,\n",
       "       -230.34571983, -228.34271357, -226.33970732, -224.33670106,\n",
       "       -222.3336948 , -220.33068854, -218.32768228, -216.32467602,\n",
       "       -214.32166976, -212.3186635 , -210.31565724, -208.31265098,\n",
       "       -206.30964472, -204.30663846, -202.3036322 , -200.30062594,\n",
       "       -198.29761968, -196.29461342, -194.29160716, -192.28860091,\n",
       "       -190.28559465, -188.28258839, -186.27958213, -184.27657587,\n",
       "       -182.27356961, -180.27056335, -178.26755709, -176.26455083,\n",
       "       -174.26154457, -172.25853831, -170.25553205, -168.25252579,\n",
       "       -166.24951953, -164.24651327, -162.24350701, -160.24050075,\n",
       "       -158.23749449, -156.23448824, -154.23148198, -152.22847572,\n",
       "       -150.22546946, -148.2224632 , -146.21945694, -144.21645068,\n",
       "       -142.21344442, -140.21043816, -138.2074319 , -136.20442564,\n",
       "       -134.20141938, -132.19841312, -130.19540686, -128.1924006 ,\n",
       "       -126.18939434, -124.18638808, -122.18338183, -120.18037557,\n",
       "       -118.17736931, -116.17436305, -114.17135679, -112.16835053,\n",
       "       -110.16534427, -108.16233801, -106.15933175, -104.15632549,\n",
       "       -102.15331923, -100.15031297,  -98.14730671,  -96.14430045,\n",
       "        -94.14129419,  -92.13828793,  -90.13528167,  -88.13227541,\n",
       "        -86.12926916,  -84.1262629 ,  -82.12325664,  -80.12025038,\n",
       "        -78.11724412,  -76.11423786,  -74.1112316 ,  -72.10822534,\n",
       "        -70.10521908,  -68.10221282,  -66.09920656,  -64.0962003 ,\n",
       "        -62.09319404,  -60.09018778,  -58.08718152,  -56.08417526,\n",
       "        -54.081169  ,  -52.07816275,  -50.07515649,  -48.07215023,\n",
       "        -46.06914397,  -44.06613771,  -42.06313145,  -40.06012519,\n",
       "        -38.05711893,  -36.05411267,  -34.05110641,  -32.04810015,\n",
       "        -30.04509389,  -28.04208763,  -26.03908137,  -24.03607511,\n",
       "        -22.03306885,  -20.03006259,  -18.02705633,  -16.02405008,\n",
       "        -14.02104382,  -12.01803756,  -10.0150313 ,   -8.01202504,\n",
       "         -6.00901878,   -4.00601252,   -2.00300626,    0.        ,\n",
       "          2.00300626,    4.00601252,    6.00901878,    8.01202504,\n",
       "         10.0150313 ,   12.01803756,   14.02104382,   16.02405008,\n",
       "         18.02705633,   20.03006259,   22.03306885,   24.03607511,\n",
       "         26.03908137,   28.04208763,   30.04509389,   32.04810015,\n",
       "         34.05110641,   36.05411267,   38.05711893,   40.06012519,\n",
       "         42.06313145,   44.06613771,   46.06914397,   48.07215023,\n",
       "         50.07515649,   52.07816275,   54.081169  ,   56.08417526,\n",
       "         58.08718152,   60.09018778,   62.09319404,   64.0962003 ,\n",
       "         66.09920656,   68.10221282,   70.10521908,   72.10822534,\n",
       "         74.1112316 ,   76.11423786,   78.11724412,   80.12025038,\n",
       "         82.12325664,   84.1262629 ,   86.12926916,   88.13227541,\n",
       "         90.13528167,   92.13828793,   94.14129419,   96.14430045,\n",
       "         98.14730671,  100.15031297,  102.15331923,  104.15632549,\n",
       "        106.15933175,  108.16233801,  110.16534427,  112.16835053,\n",
       "        114.17135679,  116.17436305,  118.17736931,  120.18037557,\n",
       "        122.18338183,  124.18638808,  126.18939434,  128.1924006 ,\n",
       "        130.19540686,  132.19841312,  134.20141938,  136.20442564,\n",
       "        138.2074319 ,  140.21043816,  142.21344442,  144.21645068,\n",
       "        146.21945694,  148.2224632 ,  150.22546946,  152.22847572,\n",
       "        154.23148198,  156.23448824,  158.23749449,  160.24050075,\n",
       "        162.24350701,  164.24651327,  166.24951953,  168.25252579,\n",
       "        170.25553205,  172.25853831,  174.26154457,  176.26455083,\n",
       "        178.26755709,  180.27056335,  182.27356961,  184.27657587,\n",
       "        186.27958213,  188.28258839,  190.28559465,  192.28860091,\n",
       "        194.29160716,  196.29461342,  198.29761968,  200.30062594,\n",
       "        202.3036322 ,  204.30663846,  206.30964472,  208.31265098,\n",
       "        210.31565724,  212.3186635 ,  214.32166976,  216.32467602,\n",
       "        218.32768228,  220.33068854,  222.3336948 ,  224.33670106,\n",
       "        226.33970732,  228.34271357,  230.34571983,  232.34872609,\n",
       "        234.35173235,  236.35473861,  238.35774487,  240.36075113,\n",
       "        242.36375739,  244.36676365,  246.36976991,  248.37277617,\n",
       "        250.37578243,  252.37878869,  254.38179495,  256.38480121,\n",
       "        258.38780747,  260.39081373,  262.39381999,  264.39682624,\n",
       "        266.3998325 ,  268.40283876,  270.40584502,  272.40885128,\n",
       "        274.41185754,  276.4148638 ,  278.41787006,  280.42087632,\n",
       "        282.42388258,  284.42688884,  286.4298951 ,  288.43290136,\n",
       "        290.43590762,  292.43891388,  294.44192014,  296.4449264 ,\n",
       "        298.44793265,  300.45093891,  302.45394517,  304.45695143,\n",
       "        306.45995769,  308.46296395,  310.46597021,  312.46897647,\n",
       "        314.47198273,  316.47498899,  318.47799525,  320.48100151,\n",
       "        322.48400777,  324.48701403,  326.49002029,  328.49302655,\n",
       "        330.49603281,  332.49903907,  334.50204532,  336.50505158,\n",
       "        338.50805784,  340.5110641 ,  342.51407036,  344.51707662,\n",
       "        346.52008288,  348.52308914,  350.5260954 ,  352.52910166,\n",
       "        354.53210792,  356.53511418,  358.53812044,  360.5411267 ,\n",
       "        362.54413296,  364.54713922,  366.55014548,  368.55315173])"
      ]
     },
     "execution_count": 31,
     "metadata": {},
     "output_type": "execute_result"
    }
   ],
   "source": [
    "signal1[13].axes_manager[0].axis"
   ]
  },
  {
   "cell_type": "code",
   "execution_count": 23,
   "id": "9af5799d-47b0-4892-8278-1370e1c76476",
   "metadata": {},
   "outputs": [
    {
     "data": {
      "text/plain": [
       "-430.64634577704004"
      ]
     },
     "execution_count": 23,
     "metadata": {},
     "output_type": "execute_result"
    }
   ],
   "source": [
    "signal1[13].axes_manager[0].offset"
   ]
  },
  {
   "cell_type": "code",
   "execution_count": 24,
   "id": "3d6f8ba0-5ae8-46f0-9efe-1f76033638b5",
   "metadata": {},
   "outputs": [
    {
     "data": {
      "text/plain": [
       "-1.0"
      ]
     },
     "execution_count": 24,
     "metadata": {},
     "output_type": "execute_result"
    }
   ],
   "source": [
    "signal1[13].axes_manager[2].offset"
   ]
  },
  {
   "cell_type": "code",
   "execution_count": 25,
   "id": "3544418c-08fe-43e7-91ec-5757bcecef3c",
   "metadata": {},
   "outputs": [
    {
     "data": {
      "text/plain": [
       "0.01"
      ]
     },
     "execution_count": 25,
     "metadata": {},
     "output_type": "execute_result"
    }
   ],
   "source": [
    "signal1[13].axes_manager[2].scale"
   ]
  },
  {
   "cell_type": "code",
   "execution_count": 26,
   "id": "a80f085b-3fda-4485-86e0-b543f8de36f6",
   "metadata": {},
   "outputs": [
    {
     "data": {
      "text/plain": [
       "'keV'"
      ]
     },
     "execution_count": 26,
     "metadata": {},
     "output_type": "execute_result"
    }
   ],
   "source": [
    "signal1[13].axes_manager[2].units"
   ]
  },
  {
   "cell_type": "code",
   "execution_count": 21,
   "id": "7ace60a9-5249-4879-b081-0302c2e1eae5",
   "metadata": {
    "collapsed": true,
    "jupyter": {
     "outputs_hidden": true
    }
   },
   "outputs": [
    {
     "data": {
      "text/plain": [
       "array([-386.58020807, -384.57720181, -382.57419555, -380.57118929,\n",
       "       -378.56818303, -376.56517677, -374.56217051, -372.55916425,\n",
       "       -370.55615799, -368.55315173, -366.55014548, -364.54713922,\n",
       "       -362.54413296, -360.5411267 , -358.53812044, -356.53511418,\n",
       "       -354.53210792, -352.52910166, -350.5260954 , -348.52308914,\n",
       "       -346.52008288, -344.51707662, -342.51407036, -340.5110641 ,\n",
       "       -338.50805784, -336.50505158, -334.50204532, -332.49903907,\n",
       "       -330.49603281, -328.49302655, -326.49002029, -324.48701403,\n",
       "       -322.48400777, -320.48100151, -318.47799525, -316.47498899,\n",
       "       -314.47198273, -312.46897647, -310.46597021, -308.46296395,\n",
       "       -306.45995769, -304.45695143, -302.45394517, -300.45093891,\n",
       "       -298.44793265, -296.4449264 , -294.44192014, -292.43891388,\n",
       "       -290.43590762, -288.43290136, -286.4298951 , -284.42688884,\n",
       "       -282.42388258, -280.42087632, -278.41787006, -276.4148638 ,\n",
       "       -274.41185754, -272.40885128, -270.40584502, -268.40283876,\n",
       "       -266.3998325 , -264.39682624, -262.39381999, -260.39081373,\n",
       "       -258.38780747, -256.38480121, -254.38179495, -252.37878869,\n",
       "       -250.37578243, -248.37277617, -246.36976991, -244.36676365,\n",
       "       -242.36375739, -240.36075113, -238.35774487, -236.35473861,\n",
       "       -234.35173235, -232.34872609, -230.34571983, -228.34271357,\n",
       "       -226.33970732, -224.33670106, -222.3336948 , -220.33068854,\n",
       "       -218.32768228, -216.32467602, -214.32166976, -212.3186635 ,\n",
       "       -210.31565724, -208.31265098, -206.30964472, -204.30663846,\n",
       "       -202.3036322 , -200.30062594, -198.29761968, -196.29461342,\n",
       "       -194.29160716, -192.28860091, -190.28559465, -188.28258839,\n",
       "       -186.27958213, -184.27657587, -182.27356961, -180.27056335,\n",
       "       -178.26755709, -176.26455083, -174.26154457, -172.25853831,\n",
       "       -170.25553205, -168.25252579, -166.24951953, -164.24651327,\n",
       "       -162.24350701, -160.24050075, -158.23749449, -156.23448824,\n",
       "       -154.23148198, -152.22847572, -150.22546946, -148.2224632 ,\n",
       "       -146.21945694, -144.21645068, -142.21344442, -140.21043816,\n",
       "       -138.2074319 , -136.20442564, -134.20141938, -132.19841312,\n",
       "       -130.19540686, -128.1924006 , -126.18939434, -124.18638808,\n",
       "       -122.18338183, -120.18037557, -118.17736931, -116.17436305,\n",
       "       -114.17135679, -112.16835053, -110.16534427, -108.16233801,\n",
       "       -106.15933175, -104.15632549, -102.15331923, -100.15031297,\n",
       "        -98.14730671,  -96.14430045,  -94.14129419,  -92.13828793,\n",
       "        -90.13528167,  -88.13227541,  -86.12926916,  -84.1262629 ,\n",
       "        -82.12325664,  -80.12025038,  -78.11724412,  -76.11423786,\n",
       "        -74.1112316 ,  -72.10822534,  -70.10521908,  -68.10221282,\n",
       "        -66.09920656,  -64.0962003 ,  -62.09319404,  -60.09018778,\n",
       "        -58.08718152,  -56.08417526,  -54.081169  ,  -52.07816275,\n",
       "        -50.07515649,  -48.07215023,  -46.06914397,  -44.06613771,\n",
       "        -42.06313145,  -40.06012519,  -38.05711893,  -36.05411267,\n",
       "        -34.05110641,  -32.04810015,  -30.04509389,  -28.04208763,\n",
       "        -26.03908137,  -24.03607511,  -22.03306885,  -20.03006259,\n",
       "        -18.02705633,  -16.02405008,  -14.02104382,  -12.01803756,\n",
       "        -10.0150313 ,   -8.01202504,   -6.00901878,   -4.00601252,\n",
       "         -2.00300626,    0.        ,    2.00300626,    4.00601252,\n",
       "          6.00901878,    8.01202504,   10.0150313 ,   12.01803756,\n",
       "         14.02104382,   16.02405008,   18.02705633,   20.03006259,\n",
       "         22.03306885,   24.03607511,   26.03908137,   28.04208763,\n",
       "         30.04509389,   32.04810015,   34.05110641,   36.05411267,\n",
       "         38.05711893,   40.06012519,   42.06313145,   44.06613771,\n",
       "         46.06914397,   48.07215023,   50.07515649,   52.07816275,\n",
       "         54.081169  ,   56.08417526,   58.08718152,   60.09018778,\n",
       "         62.09319404,   64.0962003 ,   66.09920656,   68.10221282,\n",
       "         70.10521908,   72.10822534,   74.1112316 ,   76.11423786,\n",
       "         78.11724412,   80.12025038,   82.12325664,   84.1262629 ,\n",
       "         86.12926916,   88.13227541,   90.13528167,   92.13828793,\n",
       "         94.14129419,   96.14430045,   98.14730671,  100.15031297,\n",
       "        102.15331923,  104.15632549,  106.15933175,  108.16233801,\n",
       "        110.16534427,  112.16835053,  114.17135679,  116.17436305,\n",
       "        118.17736931,  120.18037557,  122.18338183,  124.18638808,\n",
       "        126.18939434,  128.1924006 ,  130.19540686,  132.19841312,\n",
       "        134.20141938,  136.20442564,  138.2074319 ,  140.21043816,\n",
       "        142.21344442,  144.21645068,  146.21945694,  148.2224632 ,\n",
       "        150.22546946,  152.22847572,  154.23148198,  156.23448824,\n",
       "        158.23749449,  160.24050075,  162.24350701,  164.24651327,\n",
       "        166.24951953,  168.25252579,  170.25553205,  172.25853831,\n",
       "        174.26154457,  176.26455083,  178.26755709,  180.27056335,\n",
       "        182.27356961,  184.27657587,  186.27958213,  188.28258839,\n",
       "        190.28559465,  192.28860091,  194.29160716,  196.29461342,\n",
       "        198.29761968,  200.30062594,  202.3036322 ,  204.30663846,\n",
       "        206.30964472,  208.31265098,  210.31565724,  212.3186635 ,\n",
       "        214.32166976,  216.32467602,  218.32768228,  220.33068854,\n",
       "        222.3336948 ,  224.33670106,  226.33970732,  228.34271357,\n",
       "        230.34571983,  232.34872609,  234.35173235,  236.35473861,\n",
       "        238.35774487,  240.36075113,  242.36375739,  244.36676365,\n",
       "        246.36976991,  248.37277617,  250.37578243,  252.37878869,\n",
       "        254.38179495,  256.38480121,  258.38780747,  260.39081373,\n",
       "        262.39381999,  264.39682624,  266.3998325 ,  268.40283876,\n",
       "        270.40584502,  272.40885128,  274.41185754,  276.4148638 ,\n",
       "        278.41787006,  280.42087632,  282.42388258,  284.42688884,\n",
       "        286.4298951 ,  288.43290136,  290.43590762,  292.43891388,\n",
       "        294.44192014,  296.4449264 ,  298.44793265,  300.45093891,\n",
       "        302.45394517,  304.45695143,  306.45995769,  308.46296395,\n",
       "        310.46597021,  312.46897647,  314.47198273,  316.47498899,\n",
       "        318.47799525,  320.48100151,  322.48400777,  324.48701403,\n",
       "        326.49002029,  328.49302655,  330.49603281,  332.49903907,\n",
       "        334.50204532,  336.50505158,  338.50805784,  340.5110641 ,\n",
       "        342.51407036,  344.51707662,  346.52008288,  348.52308914,\n",
       "        350.5260954 ,  352.52910166,  354.53210792,  356.53511418,\n",
       "        358.53812044,  360.5411267 ,  362.54413296,  364.54713922,\n",
       "        366.55014548,  368.55315173,  370.55615799,  372.55916425,\n",
       "        374.56217051,  376.56517677,  378.56818303,  380.57118929,\n",
       "        382.57419555,  384.57720181,  386.58020807,  388.58321433,\n",
       "        390.58622059,  392.58922685,  394.59223311,  396.59523937,\n",
       "        398.59824563,  400.60125189,  402.60425815,  404.6072644 ,\n",
       "        406.61027066,  408.61327692,  410.61628318,  412.61928944])"
      ]
     },
     "execution_count": 21,
     "metadata": {},
     "output_type": "execute_result"
    }
   ],
   "source": [
    "signal1[13].axes_manager[1].axis"
   ]
  },
  {
   "cell_type": "code",
   "execution_count": 22,
   "id": "94827074-3c74-4728-9ef4-e94d7ff214aa",
   "metadata": {},
   "outputs": [
    {
     "data": {
      "text/plain": [
       "<y axis, size: 400, index: 0>"
      ]
     },
     "execution_count": 22,
     "metadata": {},
     "output_type": "execute_result"
    }
   ],
   "source": [
    "signal1[13].axes_manager[1]"
   ]
  },
  {
   "cell_type": "code",
   "execution_count": 23,
   "id": "26870824-6f87-4b45-9f97-7c5e5d4a4565",
   "metadata": {},
   "outputs": [
    {
     "data": {
      "text/plain": [
       "<X-ray energy axis, size: 4096>"
      ]
     },
     "execution_count": 23,
     "metadata": {},
     "output_type": "execute_result"
    }
   ],
   "source": [
    "signal1[13].axes_manager[2]"
   ]
  },
  {
   "cell_type": "markdown",
   "id": "aa98d993-c0a5-48fd-b874-2a09a0d7a69f",
   "metadata": {},
   "source": [
    "## Using the axes_manager[2] to access the spectrum dimension, then using axis we can get the data as it is meant to be displayed in keV's"
   ]
  },
  {
   "cell_type": "code",
   "execution_count": 28,
   "id": "c8df5c4a-8ec8-431d-bb8b-86c0454f5540",
   "metadata": {},
   "outputs": [
    {
     "data": {
      "text/plain": [
       "array([-1.  , -0.99, -0.98, ..., 39.93, 39.94, 39.95], shape=(4096,))"
      ]
     },
     "execution_count": 28,
     "metadata": {},
     "output_type": "execute_result"
    }
   ],
   "source": [
    "signal1[13].axes_manager[2].axis"
   ]
  },
  {
   "cell_type": "code",
   "execution_count": 36,
   "id": "1fa08399-5d91-4940-bc86-ad51e922a9b0",
   "metadata": {},
   "outputs": [
    {
     "data": {
      "text/plain": [
       "<EDSTEMSpectrum, title: EDS, dimensions: (400, 400|0)>"
      ]
     },
     "execution_count": 36,
     "metadata": {},
     "output_type": "execute_result"
    }
   ],
   "source": [
    "signal1[13].isig[0.50:4]"
   ]
  },
  {
   "cell_type": "code",
   "execution_count": 39,
   "id": "86e88acb-7a30-4af6-b440-399eecd63701",
   "metadata": {
    "collapsed": true,
    "jupyter": {
     "outputs_hidden": true
    },
    "scrolled": true
   },
   "outputs": [
    {
     "data": {
      "text/plain": [
       "array([[[0, 0, 1, ..., 0, 0, 0],\n",
       "        [0, 0, 0, ..., 0, 0, 0],\n",
       "        [0, 0, 1, ..., 0, 0, 0],\n",
       "        ...,\n",
       "        [0, 0, 0, ..., 0, 0, 0],\n",
       "        [0, 3, 0, ..., 0, 0, 0],\n",
       "        [0, 0, 1, ..., 0, 0, 0]],\n",
       "\n",
       "       [[1, 0, 0, ..., 0, 0, 0],\n",
       "        [0, 1, 0, ..., 0, 0, 0],\n",
       "        [0, 1, 1, ..., 0, 0, 0],\n",
       "        ...,\n",
       "        [0, 0, 0, ..., 0, 0, 0],\n",
       "        [0, 0, 0, ..., 0, 0, 0],\n",
       "        [0, 0, 0, ..., 0, 0, 0]],\n",
       "\n",
       "       [[0, 0, 2, ..., 0, 0, 0],\n",
       "        [0, 0, 2, ..., 0, 0, 1],\n",
       "        [0, 0, 0, ..., 0, 0, 0],\n",
       "        ...,\n",
       "        [1, 0, 1, ..., 0, 0, 0],\n",
       "        [1, 0, 0, ..., 0, 0, 0],\n",
       "        [0, 2, 1, ..., 0, 0, 0]],\n",
       "\n",
       "       ...,\n",
       "\n",
       "       [[1, 2, 1, ..., 0, 0, 0],\n",
       "        [1, 0, 1, ..., 0, 0, 0],\n",
       "        [1, 1, 0, ..., 0, 0, 0],\n",
       "        ...,\n",
       "        [0, 1, 0, ..., 0, 0, 0],\n",
       "        [0, 1, 1, ..., 0, 0, 0],\n",
       "        [0, 0, 0, ..., 0, 0, 0]],\n",
       "\n",
       "       [[0, 0, 0, ..., 0, 0, 0],\n",
       "        [1, 1, 0, ..., 0, 0, 0],\n",
       "        [1, 1, 0, ..., 0, 0, 0],\n",
       "        ...,\n",
       "        [0, 0, 0, ..., 0, 0, 0],\n",
       "        [0, 0, 0, ..., 0, 0, 0],\n",
       "        [0, 0, 1, ..., 0, 0, 0]],\n",
       "\n",
       "       [[0, 1, 0, ..., 0, 0, 0],\n",
       "        [0, 1, 0, ..., 0, 0, 1],\n",
       "        [1, 0, 0, ..., 0, 0, 0],\n",
       "        ...,\n",
       "        [0, 3, 1, ..., 0, 0, 0],\n",
       "        [0, 0, 0, ..., 0, 0, 0],\n",
       "        [0, 0, 2, ..., 0, 0, 0]]], shape=(400, 400, 40), dtype=uint16)"
      ]
     },
     "execution_count": 39,
     "metadata": {},
     "output_type": "execute_result"
    }
   ],
   "source": [
    "signal1[13].isig[0.50:0.9].data"
   ]
  },
  {
   "cell_type": "markdown",
   "id": "23c1dede-d575-46db-8dc5-1551760ff17c",
   "metadata": {},
   "source": [
    "# xraylib section"
   ]
  },
  {
   "cell_type": "markdown",
   "id": "611b5244-079b-418a-ba05-443be1b29a2e",
   "metadata": {},
   "source": [
    "xraylib is a C-based library with Python bindings for X-ray fluorescence, absorption, and scattering calculations. It's a highly accurate and efficient tool for people working in X-ray spectroscopy, crystallography, materials science, and related fields.\n",
    "\n",
    "## What Is xraylib For?\n",
    "You can use it to:\n",
    "\n",
    "Get fluorescence line energies and intensities\n",
    "\n",
    "Calculate mass attenuation coefficients\n",
    "\n",
    "Analyze photoelectric cross-sections\n",
    "\n",
    "Determine edge energies (K, L, M, etc.)\n",
    "\n",
    "Simulate Rayleigh and Compton scattering\n",
    "\n",
    "Basically, it gives you the theoretical backbone for simulating or interpreting experimental X-ray data.\n",
    "\n",
    "## Key Features and Functions\n",
    "### 1. Atomic Data\n",
    "Get atomic weights, numbers, and densities:\n",
    "\n",
    "xraylib.AtomicWeight(26)  # Iron (Fe)  \n",
    "\n",
    "xraylib.AtomicNumber(\"Fe\")  # 26  \n",
    "\n",
    "xraylib.ElementDensity(26)  # g/cm³  \n",
    "\n",
    "### 2. X-ray Line Energies\n",
    "xraylib.LineEnergy(26, xraylib.KA1_LINE)  # Fe Kα1 line energy  \n",
    "\n",
    "You can access a huge set of lines like KA1_LINE, KB1_LINE, LA1_LINE, etc.  \n",
    "\n",
    "\n",
    "### 3. Cross Sections\n",
    "xraylib.CS_Total(26, 10.0)  # Total cross section at 10 keV  \n",
    "\n",
    "xraylib.CS_Photo(26, 10.0)  # Photoelectric  \n",
    "\n",
    "xraylib.CS_Compt(26, 10.0)  # Compton scattering  \n",
    "\n",
    "Units are typically in cm²/g.  \n",
    "\n",
    "\n",
    "### 4. Edge Energies\n",
    "xraylib.EdgeEnergy(26, xraylib.K_SHELL)  \n",
    "\n",
    "Useful for interpreting spectra near absorption edges.  \n",
    "\n",
    "\n",
    "### 5. Fluorescence Yields and Radiative Rates  \n",
    "\n",
    "xraylib.FluorYield(26, xraylib.K_SHELL)  \n",
    "\n",
    "xraylib.RadRate(26, xraylib.KA1_LINE)  \n",
    "\n",
    "Crucial for quantifying XRF (X-ray fluorescence).  \n",
    "\n",
    "\n",
    "### 6. Compound/Mixture Handling\n",
    "compound = xraylib.CompoundParser(\"Fe2O3\")  \n",
    "\n",
    "compound[\"mass_fraction\"][xraylib.AtomicNumber(\"Fe\")]  # Fraction of iron  \n",
    "\n",
    "You can also get the total cross-section for a compound:  \n",
    "\n",
    "\n",
    "xraylib.CS_Total_CP(\"Fe2O3\", 10.0)  # At 10 keV\n",
    "\n",
    "\n",
    "\n",
    "## Why Use xraylib?\n",
    "Because:\n",
    "\n",
    "It’s fast and accurate (underlying C code).\n",
    "\n",
    "Based on up-to-date databases like XCOM and Scofield.\n",
    "\n",
    "It handles edge cases better than simplistic models.\n",
    "\n",
    "Works well in scientific pipelines (e.g., with PyMCA or custom XRF analysis)."
   ]
  },
  {
   "cell_type": "markdown",
   "id": "dedf2061-49da-4021-a9a2-3960721c5512",
   "metadata": {},
   "source": []
  },
  {
   "cell_type": "code",
   "execution_count": 24,
   "id": "9101adbe-98bd-4139-bb7d-13ee70ded38f",
   "metadata": {},
   "outputs": [],
   "source": [
    " Iron = x.SymbolToAtomicNumber(\"Fe\")"
   ]
  },
  {
   "cell_type": "code",
   "execution_count": 25,
   "id": "d766f752-2efa-48b0-94ba-ab354ef9109c",
   "metadata": {},
   "outputs": [
    {
     "data": {
      "text/plain": [
       "26"
      ]
     },
     "execution_count": 25,
     "metadata": {},
     "output_type": "execute_result"
    }
   ],
   "source": [
    "Iron"
   ]
  },
  {
   "cell_type": "code",
   "execution_count": 30,
   "id": "23f42a5f-44b1-444b-a3f1-e5b45527ed61",
   "metadata": {},
   "outputs": [],
   "source": [
    "ka1_energy = x.LineEnergy(Iron, x.KA1_LINE)\n",
    "kb1_energy = x.LineEnergy(Iron, x.KB1_LINE)"
   ]
  },
  {
   "cell_type": "code",
   "execution_count": 31,
   "id": "7558601b-95c7-4639-9f5e-57439608f11f",
   "metadata": {},
   "outputs": [
    {
     "data": {
      "text/plain": [
       "6.4039"
      ]
     },
     "execution_count": 31,
     "metadata": {},
     "output_type": "execute_result"
    }
   ],
   "source": [
    "ka1_energy"
   ]
  },
  {
   "cell_type": "code",
   "execution_count": 32,
   "id": "055eec9e-e6a3-4576-8645-36ffcdd58fb6",
   "metadata": {},
   "outputs": [
    {
     "data": {
      "text/plain": [
       "7.058"
      ]
     },
     "execution_count": 32,
     "metadata": {},
     "output_type": "execute_result"
    }
   ],
   "source": [
    "kb1_energy"
   ]
  },
  {
   "cell_type": "code",
   "execution_count": 33,
   "id": "65b12b36-e76f-4b5f-a773-e335aa17ae8f",
   "metadata": {},
   "outputs": [
    {
     "name": "stdout",
     "output_type": "stream",
     "text": [
      "K-edge binding energy for Fe: 7.11 keV\n"
     ]
    }
   ],
   "source": [
    "k_edge = x.EdgeEnergy(Iron, x.K_SHELL)\n",
    "print(f\"K-edge binding energy for Fe: {k_edge:.2f} keV\")"
   ]
  },
  {
   "cell_type": "code",
   "execution_count": 34,
   "id": "668e771b-50db-4f0c-91ef-b15ab066b58a",
   "metadata": {},
   "outputs": [],
   "source": [
    " Lithium = x.SymbolToAtomicNumber(\"Li\")"
   ]
  },
  {
   "cell_type": "markdown",
   "id": "dfdb9322-485e-4353-acfa-867e93f700bc",
   "metadata": {},
   "source": [
    "### xraylib does not carry the ka1 line for Lithium or Beryllium, which should be 54.3 eV or 0.0543 keV. Typically these elements have extremely small emission frequencies and require specialized equipment and techniques for detecting.\n",
    "### The following code will throw an error:"
   ]
  },
  {
   "cell_type": "code",
   "execution_count": 35,
   "id": "ba1b4a39-f9e1-44c4-85e1-3703394b53d6",
   "metadata": {},
   "outputs": [
    {
     "ename": "ValueError",
     "evalue": "Invalid line for this atomic number",
     "output_type": "error",
     "traceback": [
      "\u001b[1;31m---------------------------------------------------------------------------\u001b[0m",
      "\u001b[1;31mValueError\u001b[0m                                Traceback (most recent call last)",
      "Cell \u001b[1;32mIn[35], line 1\u001b[0m\n\u001b[1;32m----> 1\u001b[0m ka1_energy \u001b[38;5;241m=\u001b[39m \u001b[43mx\u001b[49m\u001b[38;5;241;43m.\u001b[39;49m\u001b[43mLineEnergy\u001b[49m\u001b[43m(\u001b[49m\u001b[43mLithium\u001b[49m\u001b[43m,\u001b[49m\u001b[43m \u001b[49m\u001b[43mx\u001b[49m\u001b[38;5;241;43m.\u001b[39;49m\u001b[43mKA1_LINE\u001b[49m\u001b[43m)\u001b[49m\n",
      "File \u001b[1;32m~\\micromambaenv\\envs\\hyperspy-env\\lib\\site-packages\\xraylib.py:4127\u001b[0m, in \u001b[0;36mLineEnergy\u001b[1;34m(Z, line)\u001b[0m\n\u001b[0;32m   4117\u001b[0m \u001b[38;5;28;01mdef\u001b[39;00m\u001b[38;5;250m \u001b[39m\u001b[38;5;21mLineEnergy\u001b[39m(Z, line):\n\u001b[0;32m   4118\u001b[0m \u001b[38;5;250m    \u001b[39m\u001b[38;5;124mr\u001b[39m\u001b[38;5;124;03m\"\"\"\u001b[39;00m\n\u001b[0;32m   4119\u001b[0m \u001b[38;5;124;03m    LineEnergy(int Z, int line) -> double\u001b[39;00m\n\u001b[0;32m   4120\u001b[0m \n\u001b[1;32m   (...)\u001b[0m\n\u001b[0;32m   4125\u001b[0m \n\u001b[0;32m   4126\u001b[0m \u001b[38;5;124;03m    \"\"\"\u001b[39;00m\n\u001b[1;32m-> 4127\u001b[0m     \u001b[38;5;28;01mreturn\u001b[39;00m \u001b[43m_xraylib\u001b[49m\u001b[38;5;241;43m.\u001b[39;49m\u001b[43mLineEnergy\u001b[49m\u001b[43m(\u001b[49m\u001b[43mZ\u001b[49m\u001b[43m,\u001b[49m\u001b[43m \u001b[49m\u001b[43mline\u001b[49m\u001b[43m)\u001b[49m\n",
      "\u001b[1;31mValueError\u001b[0m: Invalid line for this atomic number"
     ]
    }
   ],
   "source": [
    "ka1_energy = x.LineEnergy(Lithium, x.KA1_LINE)"
   ]
  },
  {
   "cell_type": "code",
   "execution_count": 41,
   "id": "071ccbea-436d-4767-9a54-1695bb9a6a96",
   "metadata": {},
   "outputs": [
    {
     "ename": "ValueError",
     "evalue": "Invalid line for this atomic number",
     "output_type": "error",
     "traceback": [
      "\u001b[1;31m---------------------------------------------------------------------------\u001b[0m",
      "\u001b[1;31mValueError\u001b[0m                                Traceback (most recent call last)",
      "Cell \u001b[1;32mIn[41], line 2\u001b[0m\n\u001b[0;32m      1\u001b[0m Beryllium \u001b[38;5;241m=\u001b[39m x\u001b[38;5;241m.\u001b[39mSymbolToAtomicNumber(\u001b[38;5;124m\"\u001b[39m\u001b[38;5;124mBe\u001b[39m\u001b[38;5;124m\"\u001b[39m)\n\u001b[1;32m----> 2\u001b[0m ka1_energy \u001b[38;5;241m=\u001b[39m \u001b[43mx\u001b[49m\u001b[38;5;241;43m.\u001b[39;49m\u001b[43mLineEnergy\u001b[49m\u001b[43m(\u001b[49m\u001b[43mBeryllium\u001b[49m\u001b[43m,\u001b[49m\u001b[43m \u001b[49m\u001b[43mx\u001b[49m\u001b[38;5;241;43m.\u001b[39;49m\u001b[43mKA1_LINE\u001b[49m\u001b[43m)\u001b[49m\n\u001b[0;32m      3\u001b[0m ka1_energy\n",
      "File \u001b[1;32m~\\micromambaenv\\envs\\hyperspy-env\\lib\\site-packages\\xraylib.py:4127\u001b[0m, in \u001b[0;36mLineEnergy\u001b[1;34m(Z, line)\u001b[0m\n\u001b[0;32m   4117\u001b[0m \u001b[38;5;28;01mdef\u001b[39;00m\u001b[38;5;250m \u001b[39m\u001b[38;5;21mLineEnergy\u001b[39m(Z, line):\n\u001b[0;32m   4118\u001b[0m \u001b[38;5;250m    \u001b[39m\u001b[38;5;124mr\u001b[39m\u001b[38;5;124;03m\"\"\"\u001b[39;00m\n\u001b[0;32m   4119\u001b[0m \u001b[38;5;124;03m    LineEnergy(int Z, int line) -> double\u001b[39;00m\n\u001b[0;32m   4120\u001b[0m \n\u001b[1;32m   (...)\u001b[0m\n\u001b[0;32m   4125\u001b[0m \n\u001b[0;32m   4126\u001b[0m \u001b[38;5;124;03m    \"\"\"\u001b[39;00m\n\u001b[1;32m-> 4127\u001b[0m     \u001b[38;5;28;01mreturn\u001b[39;00m \u001b[43m_xraylib\u001b[49m\u001b[38;5;241;43m.\u001b[39;49m\u001b[43mLineEnergy\u001b[49m\u001b[43m(\u001b[49m\u001b[43mZ\u001b[49m\u001b[43m,\u001b[49m\u001b[43m \u001b[49m\u001b[43mline\u001b[49m\u001b[43m)\u001b[49m\n",
      "\u001b[1;31mValueError\u001b[0m: Invalid line for this atomic number"
     ]
    }
   ],
   "source": [
    "Beryllium = x.SymbolToAtomicNumber(\"Be\")\n",
    "ka1_energy = x.LineEnergy(Beryllium, x.KA1_LINE)\n",
    "ka1_energy"
   ]
  },
  {
   "cell_type": "code",
   "execution_count": null,
   "id": "b1924723-5f77-48c6-b98a-2a2b85c270af",
   "metadata": {},
   "outputs": [],
   "source": []
  },
  {
   "cell_type": "markdown",
   "id": "33c50e11-24e0-4d80-ad81-617082afbd3c",
   "metadata": {},
   "source": [
    "### The first element xraylib does carry the ka1 line for is Oxygen"
   ]
  },
  {
   "cell_type": "code",
   "execution_count": 36,
   "id": "42675101-9d5d-418d-a72e-63048d1b907d",
   "metadata": {},
   "outputs": [
    {
     "data": {
      "text/plain": [
       "0.5249"
      ]
     },
     "execution_count": 36,
     "metadata": {},
     "output_type": "execute_result"
    }
   ],
   "source": [
    "Oxygen = x.SymbolToAtomicNumber(\"O\")\n",
    "ka1_energy = x.LineEnergy(Oxygen, x.KA1_LINE)\n",
    "ka1_energy"
   ]
  },
  {
   "cell_type": "code",
   "execution_count": 44,
   "id": "f228e3c2-d858-4989-92c7-6243e3251d82",
   "metadata": {},
   "outputs": [],
   "source": [
    "Lawrencium = x.SymbolToAtomicNumber(\"Lr\")\n",
    "ka1_energy = x.LineEnergy(Lawrencium, x.KA1_LINE)\n",
    "ma1_energy = x.LineEnergy(Lawrencium, x.MA1_LINE)"
   ]
  },
  {
   "cell_type": "code",
   "execution_count": 43,
   "id": "b50ee38b-d9e2-4e0c-b095-dfa6d1558d59",
   "metadata": {},
   "outputs": [
    {
     "data": {
      "text/plain": [
       "130.611"
      ]
     },
     "execution_count": 43,
     "metadata": {},
     "output_type": "execute_result"
    }
   ],
   "source": [
    "ka1_energy"
   ]
  },
  {
   "cell_type": "code",
   "execution_count": 45,
   "id": "6de87649-2b60-4ea4-bf63-0e6a0ab64ab3",
   "metadata": {},
   "outputs": [
    {
     "data": {
      "text/plain": [
       "4.218"
      ]
     },
     "execution_count": 45,
     "metadata": {},
     "output_type": "execute_result"
    }
   ],
   "source": [
    "ma1_energy"
   ]
  },
  {
   "cell_type": "code",
   "execution_count": 72,
   "id": "600000fa-ce79-4b86-83bc-bd5018bd128c",
   "metadata": {},
   "outputs": [
    {
     "data": {
      "text/plain": [
       "0.2774"
      ]
     },
     "execution_count": 72,
     "metadata": {},
     "output_type": "execute_result"
    }
   ],
   "source": [
    "Carbon = x.SymbolToAtomicNumber(\"C\")\n",
    "ka1_energy = x.LineEnergy(Carbon, x.KA1_LINE)\n",
    "ka1_energy"
   ]
  },
  {
   "cell_type": "code",
   "execution_count": 73,
   "id": "7c877f63-4f3b-42aa-b4fe-21dfcd2db529",
   "metadata": {},
   "outputs": [
    {
     "data": {
      "text/plain": [
       "0.1833"
      ]
     },
     "execution_count": 73,
     "metadata": {},
     "output_type": "execute_result"
    }
   ],
   "source": [
    "Boron = x.SymbolToAtomicNumber(\"B\")\n",
    "ka1_energy = x.LineEnergy(Boron, x.KA1_LINE)\n",
    "ka1_energy"
   ]
  },
  {
   "cell_type": "code",
   "execution_count": null,
   "id": "d9455367-23d5-4f3b-b622-b1386373da42",
   "metadata": {},
   "outputs": [],
   "source": []
  }
 ],
 "metadata": {
  "kernelspec": {
   "display_name": "Python 3 (ipykernel)",
   "language": "python",
   "name": "python3"
  },
  "language_info": {
   "codemirror_mode": {
    "name": "ipython",
    "version": 3
   },
   "file_extension": ".py",
   "mimetype": "text/x-python",
   "name": "python",
   "nbconvert_exporter": "python",
   "pygments_lexer": "ipython3",
   "version": "3.10.18"
  }
 },
 "nbformat": 4,
 "nbformat_minor": 5
}
