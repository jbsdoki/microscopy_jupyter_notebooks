{
 "cells": [
  {
   "cell_type": "markdown",
   "id": "0f9cd2d6-4653-4177-8ae4-eafd4379f72f",
   "metadata": {},
   "source": [
    "# exspy"
   ]
  },
  {
   "cell_type": "markdown",
   "id": "33fb7dac-b440-460b-a1ce-1715bce3c4e7",
   "metadata": {},
   "source": [
    "# Emission Line Spectra"
   ]
  },
  {
   "cell_type": "code",
   "execution_count": 14,
   "id": "868dff2d-a7bc-4204-a689-2270224a8ef8",
   "metadata": {},
   "outputs": [],
   "source": [
    "import exspy as ex\n",
    "from exspy.material import elements"
   ]
  },
  {
   "cell_type": "code",
   "execution_count": 4,
   "id": "62ce0895-e2e9-4f68-a840-de87864d5bd2",
   "metadata": {},
   "outputs": [
    {
     "data": {
      "text/html": [
       "<ul style=\"margin: 0px; list-style-position: outside;\">\n",
       "                    <details open>\n",
       "                    <summary style=\"display: list-item;\">\n",
       "                    <li style=\"display: inline;\">\n",
       "                    Ka\n",
       "                    </li></summary>\n",
       "                    \n",
       "    <ul style=\"margin: 0px; list-style-position: outside;\">\n",
       "    <li style='margin-left:1em; padding-left: 0.5em'>energy (keV) = 6.4039</li></ul>\n",
       "    \n",
       "    <ul style=\"margin: 0px; list-style-position: outside;\">\n",
       "    <li style='margin-left:1em; padding-left: 0.5em'>weight = 1.0</li></ul>\n",
       "    </details></ul><ul style=\"margin: 0px; list-style-position: outside;\">\n",
       "                    <details open>\n",
       "                    <summary style=\"display: list-item;\">\n",
       "                    <li style=\"display: inline;\">\n",
       "                    Kb\n",
       "                    </li></summary>\n",
       "                    \n",
       "    <ul style=\"margin: 0px; list-style-position: outside;\">\n",
       "    <li style='margin-left:1em; padding-left: 0.5em'>energy (keV) = 7.058</li></ul>\n",
       "    \n",
       "    <ul style=\"margin: 0px; list-style-position: outside;\">\n",
       "    <li style='margin-left:1em; padding-left: 0.5em'>weight = 0.1272</li></ul>\n",
       "    </details></ul><ul style=\"margin: 0px; list-style-position: outside;\">\n",
       "                    <details open>\n",
       "                    <summary style=\"display: list-item;\">\n",
       "                    <li style=\"display: inline;\">\n",
       "                    La\n",
       "                    </li></summary>\n",
       "                    \n",
       "    <ul style=\"margin: 0px; list-style-position: outside;\">\n",
       "    <li style='margin-left:1em; padding-left: 0.5em'>energy (keV) = 0.7045</li></ul>\n",
       "    \n",
       "    <ul style=\"margin: 0px; list-style-position: outside;\">\n",
       "    <li style='margin-left:1em; padding-left: 0.5em'>weight = 1.0</li></ul>\n",
       "    </details></ul><ul style=\"margin: 0px; list-style-position: outside;\">\n",
       "                    <details open>\n",
       "                    <summary style=\"display: list-item;\">\n",
       "                    <li style=\"display: inline;\">\n",
       "                    Lb3\n",
       "                    </li></summary>\n",
       "                    \n",
       "    <ul style=\"margin: 0px; list-style-position: outside;\">\n",
       "    <li style='margin-left:1em; padding-left: 0.5em'>energy (keV) = 0.7921</li></ul>\n",
       "    \n",
       "    <ul style=\"margin: 0px; list-style-position: outside;\">\n",
       "    <li style='margin-left:1em; padding-left: 0.5em'>weight = 0.02448</li></ul>\n",
       "    </details></ul><ul style=\"margin: 0px; list-style-position: outside;\">\n",
       "                    <details open>\n",
       "                    <summary style=\"display: list-item;\">\n",
       "                    <li style=\"display: inline;\">\n",
       "                    Ll\n",
       "                    </li></summary>\n",
       "                    \n",
       "    <ul style=\"margin: 0px; list-style-position: outside;\">\n",
       "    <li style='margin-left:1em; padding-left: 0.5em'>energy (keV) = 0.6152</li></ul>\n",
       "    \n",
       "    <ul style=\"margin: 0px; list-style-position: outside;\">\n",
       "    <li style='margin-left:1em; padding-left: 0.5em'>weight = 0.3086</li></ul>\n",
       "    </details></ul><ul style=\"margin: 0px; list-style-position: outside;\">\n",
       "                    <details open>\n",
       "                    <summary style=\"display: list-item;\">\n",
       "                    <li style=\"display: inline;\">\n",
       "                    Ln\n",
       "                    </li></summary>\n",
       "                    \n",
       "    <ul style=\"margin: 0px; list-style-position: outside;\">\n",
       "    <li style='margin-left:1em; padding-left: 0.5em'>energy (keV) = 0.6282</li></ul>\n",
       "    \n",
       "    <ul style=\"margin: 0px; list-style-position: outside;\">\n",
       "    <li style='margin-left:1em; padding-left: 0.5em'>weight = 0.12525</li></ul>\n",
       "    </details></ul>"
      ],
      "text/plain": [
       "├── Ka\n",
       "│   ├── energy (keV) = 6.4039\n",
       "│   └── weight = 1.0\n",
       "├── Kb\n",
       "│   ├── energy (keV) = 7.058\n",
       "│   └── weight = 0.1272\n",
       "├── La\n",
       "│   ├── energy (keV) = 0.7045\n",
       "│   └── weight = 1.0\n",
       "├── Lb3\n",
       "│   ├── energy (keV) = 0.7921\n",
       "│   └── weight = 0.02448\n",
       "├── Ll\n",
       "│   ├── energy (keV) = 0.6152\n",
       "│   └── weight = 0.3086\n",
       "└── Ln\n",
       "    ├── energy (keV) = 0.6282\n",
       "    └── weight = 0.12525"
      ]
     },
     "execution_count": 4,
     "metadata": {},
     "output_type": "execute_result"
    }
   ],
   "source": [
    "iron = ex.material.elements.Fe\n",
    "lines = iron.Atomic_properties.Xray_lines\n",
    "lines"
   ]
  },
  {
   "cell_type": "code",
   "execution_count": 5,
   "id": "c236a8bc-2bf8-43f5-a3e2-26f96c862e9d",
   "metadata": {},
   "outputs": [
    {
     "data": {
      "text/html": [
       "<ul style=\"margin: 0px; list-style-position: outside;\">\n",
       "                    <details open>\n",
       "                    <summary style=\"display: list-item;\">\n",
       "                    <li style=\"display: inline;\">\n",
       "                    Ka\n",
       "                    </li></summary>\n",
       "                    \n",
       "    <ul style=\"margin: 0px; list-style-position: outside;\">\n",
       "    <li style='margin-left:1em; padding-left: 0.5em'>energy (keV) = 0.0013598</li></ul>\n",
       "    \n",
       "    <ul style=\"margin: 0px; list-style-position: outside;\">\n",
       "    <li style='margin-left:1em; padding-left: 0.5em'>weight = 1.0</li></ul>\n",
       "    </details></ul>"
      ],
      "text/plain": [
       "└── Ka\n",
       "    ├── energy (keV) = 0.0013598\n",
       "    └── weight = 1.0"
      ]
     },
     "execution_count": 5,
     "metadata": {},
     "output_type": "execute_result"
    }
   ],
   "source": [
    "hydrogen = ex.material.elements.H\n",
    "lines = hydrogen.Atomic_properties.Xray_lines\n",
    "lines"
   ]
  },
  {
   "cell_type": "code",
   "execution_count": 6,
   "id": "17d9e642-5420-4cae-8795-984ffc49967e",
   "metadata": {},
   "outputs": [
    {
     "data": {
      "text/html": [
       "<ul style=\"margin: 0px; list-style-position: outside;\">\n",
       "                    <details open>\n",
       "                    <summary style=\"display: list-item;\">\n",
       "                    <li style=\"display: inline;\">\n",
       "                    Ka\n",
       "                    </li></summary>\n",
       "                    \n",
       "    <ul style=\"margin: 0px; list-style-position: outside;\">\n",
       "    <li style='margin-left:1em; padding-left: 0.5em'>energy (keV) = 0.0013598</li></ul>\n",
       "    \n",
       "    <ul style=\"margin: 0px; list-style-position: outside;\">\n",
       "    <li style='margin-left:1em; padding-left: 0.5em'>weight = 1.0</li></ul>\n",
       "    </details></ul>"
      ],
      "text/plain": [
       "└── Ka\n",
       "    ├── energy (keV) = 0.0013598\n",
       "    └── weight = 1.0"
      ]
     },
     "execution_count": 6,
     "metadata": {},
     "output_type": "execute_result"
    }
   ],
   "source": [
    "lithium = ex.material.elements.H\n",
    "lines = lithium.Atomic_properties.Xray_lines\n",
    "lines"
   ]
  },
  {
   "cell_type": "code",
   "execution_count": 8,
   "id": "c7b048de-fd99-4f29-98c8-68d294c79dca",
   "metadata": {},
   "outputs": [
    {
     "data": {
      "text/html": [
       "<ul style=\"margin: 0px; list-style-position: outside;\">\n",
       "                    <details open>\n",
       "                    <summary style=\"display: list-item;\">\n",
       "                    <li style=\"display: inline;\">\n",
       "                    Ka\n",
       "                    </li></summary>\n",
       "                    \n",
       "    <ul style=\"margin: 0px; list-style-position: outside;\">\n",
       "    <li style='margin-left:1em; padding-left: 0.5em'>energy (keV) = 6.4039</li></ul>\n",
       "    \n",
       "    <ul style=\"margin: 0px; list-style-position: outside;\">\n",
       "    <li style='margin-left:1em; padding-left: 0.5em'>weight = 1.0</li></ul>\n",
       "    </details></ul><ul style=\"margin: 0px; list-style-position: outside;\">\n",
       "                    <details open>\n",
       "                    <summary style=\"display: list-item;\">\n",
       "                    <li style=\"display: inline;\">\n",
       "                    Kb\n",
       "                    </li></summary>\n",
       "                    \n",
       "    <ul style=\"margin: 0px; list-style-position: outside;\">\n",
       "    <li style='margin-left:1em; padding-left: 0.5em'>energy (keV) = 7.058</li></ul>\n",
       "    \n",
       "    <ul style=\"margin: 0px; list-style-position: outside;\">\n",
       "    <li style='margin-left:1em; padding-left: 0.5em'>weight = 0.1272</li></ul>\n",
       "    </details></ul><ul style=\"margin: 0px; list-style-position: outside;\">\n",
       "                    <details open>\n",
       "                    <summary style=\"display: list-item;\">\n",
       "                    <li style=\"display: inline;\">\n",
       "                    La\n",
       "                    </li></summary>\n",
       "                    \n",
       "    <ul style=\"margin: 0px; list-style-position: outside;\">\n",
       "    <li style='margin-left:1em; padding-left: 0.5em'>energy (keV) = 0.7045</li></ul>\n",
       "    \n",
       "    <ul style=\"margin: 0px; list-style-position: outside;\">\n",
       "    <li style='margin-left:1em; padding-left: 0.5em'>weight = 1.0</li></ul>\n",
       "    </details></ul><ul style=\"margin: 0px; list-style-position: outside;\">\n",
       "                    <details open>\n",
       "                    <summary style=\"display: list-item;\">\n",
       "                    <li style=\"display: inline;\">\n",
       "                    Lb3\n",
       "                    </li></summary>\n",
       "                    \n",
       "    <ul style=\"margin: 0px; list-style-position: outside;\">\n",
       "    <li style='margin-left:1em; padding-left: 0.5em'>energy (keV) = 0.7921</li></ul>\n",
       "    \n",
       "    <ul style=\"margin: 0px; list-style-position: outside;\">\n",
       "    <li style='margin-left:1em; padding-left: 0.5em'>weight = 0.02448</li></ul>\n",
       "    </details></ul><ul style=\"margin: 0px; list-style-position: outside;\">\n",
       "                    <details open>\n",
       "                    <summary style=\"display: list-item;\">\n",
       "                    <li style=\"display: inline;\">\n",
       "                    Ll\n",
       "                    </li></summary>\n",
       "                    \n",
       "    <ul style=\"margin: 0px; list-style-position: outside;\">\n",
       "    <li style='margin-left:1em; padding-left: 0.5em'>energy (keV) = 0.6152</li></ul>\n",
       "    \n",
       "    <ul style=\"margin: 0px; list-style-position: outside;\">\n",
       "    <li style='margin-left:1em; padding-left: 0.5em'>weight = 0.3086</li></ul>\n",
       "    </details></ul><ul style=\"margin: 0px; list-style-position: outside;\">\n",
       "                    <details open>\n",
       "                    <summary style=\"display: list-item;\">\n",
       "                    <li style=\"display: inline;\">\n",
       "                    Ln\n",
       "                    </li></summary>\n",
       "                    \n",
       "    <ul style=\"margin: 0px; list-style-position: outside;\">\n",
       "    <li style='margin-left:1em; padding-left: 0.5em'>energy (keV) = 0.6282</li></ul>\n",
       "    \n",
       "    <ul style=\"margin: 0px; list-style-position: outside;\">\n",
       "    <li style='margin-left:1em; padding-left: 0.5em'>weight = 0.12525</li></ul>\n",
       "    </details></ul>"
      ],
      "text/plain": [
       "├── Ka\n",
       "│   ├── energy (keV) = 6.4039\n",
       "│   └── weight = 1.0\n",
       "├── Kb\n",
       "│   ├── energy (keV) = 7.058\n",
       "│   └── weight = 0.1272\n",
       "├── La\n",
       "│   ├── energy (keV) = 0.7045\n",
       "│   └── weight = 1.0\n",
       "├── Lb3\n",
       "│   ├── energy (keV) = 0.7921\n",
       "│   └── weight = 0.02448\n",
       "├── Ll\n",
       "│   ├── energy (keV) = 0.6152\n",
       "│   └── weight = 0.3086\n",
       "└── Ln\n",
       "    ├── energy (keV) = 0.6282\n",
       "    └── weight = 0.12525"
      ]
     },
     "execution_count": 8,
     "metadata": {},
     "output_type": "execute_result"
    }
   ],
   "source": [
    "ex.material.elements.Fe.Atomic_properties.Xray_lines"
   ]
  },
  {
   "cell_type": "code",
   "execution_count": 9,
   "id": "79978d27-8620-465a-9e45-7bb54a1aef82",
   "metadata": {},
   "outputs": [],
   "source": [
    "line_labels = [\"Ka1\", \"Ka2\", \"Kb1\", \"La1\", \"La2\", \"Lb1\", \"Lb2\", \"Lg1\", \"Ma1\"]"
   ]
  }
 ],
 "metadata": {
  "kernelspec": {
   "display_name": "Python 3 (ipykernel)",
   "language": "python",
   "name": "python3"
  },
  "language_info": {
   "codemirror_mode": {
    "name": "ipython",
    "version": 3
   },
   "file_extension": ".py",
   "mimetype": "text/x-python",
   "name": "python",
   "nbconvert_exporter": "python",
   "pygments_lexer": "ipython3",
   "version": "3.10.18"
  }
 },
 "nbformat": 4,
 "nbformat_minor": 5
}
