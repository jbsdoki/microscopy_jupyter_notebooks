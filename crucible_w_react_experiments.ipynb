{
 "cells": [
  {
   "cell_type": "code",
   "execution_count": 20,
   "id": "49548028-42ea-4ddc-bfd0-913126fce22f",
   "metadata": {},
   "outputs": [],
   "source": [
    "import hyperspy.api as hs\n",
    "import xraylib as x\n",
    "import numpy as np\n",
    "import os\n",
    "\n",
    "from pathlib import Path"
   ]
  },
  {
   "cell_type": "code",
   "execution_count": 21,
   "id": "414af12a-e46e-4792-aae0-1bff7c96f893",
   "metadata": {},
   "outputs": [],
   "source": [
    "base_dir = Path(r'C:\\Users\\MF\\LBNL_git_repos\\react-explorers\\backend\\sample_data')"
   ]
  },
  {
   "cell_type": "code",
   "execution_count": 22,
   "id": "190c0379-67b6-4abf-b519-f7a70eee7660",
   "metadata": {},
   "outputs": [],
   "source": [
    "os.listdir(base_dir)\n",
    "signal_paths = list(base_dir.glob('*.emd'))"
   ]
  },
  {
   "cell_type": "code",
   "execution_count": 23,
   "id": "a2300916-e195-4d78-900c-a418439e086f",
   "metadata": {},
   "outputs": [
    {
     "name": "stdout",
     "output_type": "stream",
     "text": [
      "C:\\Users\\MF\\LBNL_git_repos\\react-explorers\\backend\\sample_data\\Copy of SI HAADF 1059 49000 x.emd\n",
      "C:\\Users\\MF\\LBNL_git_repos\\react-explorers\\backend\\sample_data\\Copy of SI HAADF 1119 49000 x.emd\n",
      "C:\\Users\\MF\\LBNL_git_repos\\react-explorers\\backend\\sample_data\\Copy of SI HAADF 1142 49000 x.emd\n",
      "C:\\Users\\MF\\LBNL_git_repos\\react-explorers\\backend\\sample_data\\Copy of SI HAADF 1202 49000 x.emd\n",
      "C:\\Users\\MF\\LBNL_git_repos\\react-explorers\\backend\\sample_data\\Copy_of_SI_HAADF_1038_49000_x.emd\n"
     ]
    }
   ],
   "source": [
    "for path in signal_paths:\n",
    "    print(path)"
   ]
  },
  {
   "cell_type": "markdown",
   "id": "8d2a4d48-48eb-4ffc-a2ee-29e8393be622",
   "metadata": {},
   "source": [
    "# Hyperspy Section"
   ]
  },
  {
   "cell_type": "code",
   "execution_count": 5,
   "id": "95a8cf35-f3cc-4a30-b9f1-f45ed97aac32",
   "metadata": {},
   "outputs": [],
   "source": [
    "signal1 = hs.load(signal_paths[0])"
   ]
  },
  {
   "cell_type": "code",
   "execution_count": 8,
   "id": "203ec984-99ae-4d0c-926e-e314ec870e28",
   "metadata": {},
   "outputs": [
    {
     "data": {
      "text/plain": [
       "[<EDSTEMSpectrum, title: EDS, dimensions: (|4096)>,\n",
       " <EDSTEMSpectrum, title: EDS, dimensions: (|4096)>,\n",
       " <EDSTEMSpectrum, title: EDS, dimensions: (|4096)>,\n",
       " <EDSTEMSpectrum, title: EDS, dimensions: (|4096)>,\n",
       " <Signal2D, title: Al, dimensions: (|400, 400)>,\n",
       " <Signal2D, title: Si, dimensions: (|400, 400)>,\n",
       " <Signal2D, title: Na, dimensions: (|400, 400)>,\n",
       " <Signal2D, title: K, dimensions: (|400, 400)>,\n",
       " <Signal2D, title: Ba, dimensions: (|400, 400)>,\n",
       " <Signal2D, title: HAADF, dimensions: (|400, 400)>,\n",
       " <Signal2D, title: Fe, dimensions: (|400, 400)>,\n",
       " <Signal2D, title: Rb, dimensions: (|400, 400)>,\n",
       " <Signal2D, title: O, dimensions: (|400, 400)>,\n",
       " <EDSTEMSpectrum, title: EDS, dimensions: (400, 400|4096)>]"
      ]
     },
     "execution_count": 8,
     "metadata": {},
     "output_type": "execute_result"
    }
   ],
   "source": [
    "signal1"
   ]
  },
  {
   "cell_type": "code",
   "execution_count": 46,
   "id": "f577d9ac-8c38-468b-84f2-e4913dddb682",
   "metadata": {},
   "outputs": [
    {
     "data": {
      "text/plain": [
       "exspy.signals.eds_tem.EDSTEMSpectrum"
      ]
     },
     "execution_count": 46,
     "metadata": {},
     "output_type": "execute_result"
    }
   ],
   "source": [
    "type(signal1[0])"
   ]
  },
  {
   "cell_type": "code",
   "execution_count": 47,
   "id": "7b6a6017-584e-4864-86ca-b5715d59b091",
   "metadata": {},
   "outputs": [
    {
     "data": {
      "text/plain": [
       "numpy.ndarray"
      ]
     },
     "execution_count": 47,
     "metadata": {},
     "output_type": "execute_result"
    }
   ],
   "source": [
    "type(signal1[0].data)"
   ]
  },
  {
   "cell_type": "code",
   "execution_count": 9,
   "id": "b3697423-1be0-4587-812b-e0c518a145c0",
   "metadata": {},
   "outputs": [
    {
     "data": {
      "text/plain": [
       "array([0, 0, 0, ..., 0, 0, 0], shape=(4096,), dtype=uint32)"
      ]
     },
     "execution_count": 9,
     "metadata": {},
     "output_type": "execute_result"
    }
   ],
   "source": [
    "signal1[0].data"
   ]
  },
  {
   "cell_type": "code",
   "execution_count": 10,
   "id": "aa308a8c-fb3d-4af0-85d8-bef6e1035a6a",
   "metadata": {},
   "outputs": [
    {
     "data": {
      "text/plain": [
       "(4096,)"
      ]
     },
     "execution_count": 10,
     "metadata": {},
     "output_type": "execute_result"
    }
   ],
   "source": [
    "signal1[0].data.shape"
   ]
  },
  {
   "cell_type": "code",
   "execution_count": 48,
   "id": "6a459cca-1727-416e-b093-16bfb5fb14a2",
   "metadata": {},
   "outputs": [
    {
     "data": {
      "text/plain": [
       "hyperspy.misc.utils.DictionaryTreeBrowser"
      ]
     },
     "execution_count": 48,
     "metadata": {},
     "output_type": "execute_result"
    }
   ],
   "source": [
    "type(signal1[0].metadata)"
   ]
  },
  {
   "cell_type": "code",
   "execution_count": 11,
   "id": "ad2b16f2-e8c8-42ae-bfae-d1412a51117e",
   "metadata": {},
   "outputs": [
    {
     "data": {
      "text/html": [
       "<ul style=\"margin: 0px; list-style-position: outside;\">\n",
       "                    <details open>\n",
       "                    <summary style=\"display: list-item;\">\n",
       "                    <li style=\"display: inline;\">\n",
       "                    Acquisition_instrument\n",
       "                    </li></summary>\n",
       "                    <ul style=\"margin: 0px; list-style-position: outside;\">\n",
       "                    <details closed>\n",
       "                    <summary style=\"display: list-item;\">\n",
       "                    <li style=\"display: inline;\">\n",
       "                    TEM\n",
       "                    </li></summary>\n",
       "                    <ul style=\"margin: 0px; list-style-position: outside;\">\n",
       "                    <details closed>\n",
       "                    <summary style=\"display: list-item;\">\n",
       "                    <li style=\"display: inline;\">\n",
       "                    Detector\n",
       "                    </li></summary>\n",
       "                    <ul style=\"margin: 0px; list-style-position: outside;\">\n",
       "                    <details closed>\n",
       "                    <summary style=\"display: list-item;\">\n",
       "                    <li style=\"display: inline;\">\n",
       "                    EDS\n",
       "                    </li></summary>\n",
       "                    \n",
       "    <ul style=\"margin: 0px; list-style-position: outside;\">\n",
       "    <li style='margin-left:1em; padding-left: 0.5em'>azimuth_angle = 0.0</li></ul>\n",
       "    \n",
       "    <ul style=\"margin: 0px; list-style-position: outside;\">\n",
       "    <li style='margin-left:1em; padding-left: 0.5em'>elevation_angle = 35.0</li></ul>\n",
       "    \n",
       "    <ul style=\"margin: 0px; list-style-position: outside;\">\n",
       "    <li style='margin-left:1em; padding-left: 0.5em'>energy_resolution_MnKa = 130.0</li></ul>\n",
       "    </details></ul></details></ul><ul style=\"margin: 0px; list-style-position: outside;\">\n",
       "                    <details closed>\n",
       "                    <summary style=\"display: list-item;\">\n",
       "                    <li style=\"display: inline;\">\n",
       "                    Stage\n",
       "                    </li></summary>\n",
       "                    \n",
       "    <ul style=\"margin: 0px; list-style-position: outside;\">\n",
       "    <li style='margin-left:1em; padding-left: 0.5em'>tilt_alpha = np.float64(0.0)</li></ul>\n",
       "    \n",
       "    <ul style=\"margin: 0px; list-style-position: outside;\">\n",
       "    <li style='margin-left:1em; padding-left: 0.5em'>tilt_beta = np.float64(0.0)</li></ul>\n",
       "    \n",
       "    <ul style=\"margin: 0px; list-style-position: outside;\">\n",
       "    <li style='margin-left:1em; padding-left: 0.5em'>x = -3.5e-05</li></ul>\n",
       "    \n",
       "    <ul style=\"margin: 0px; list-style-position: outside;\">\n",
       "    <li style='margin-left:1em; padding-left: 0.5em'>y = -0.000571</li></ul>\n",
       "    \n",
       "    <ul style=\"margin: 0px; list-style-position: outside;\">\n",
       "    <li style='margin-left:1em; padding-left: 0.5em'>z = -8e-05</li></ul>\n",
       "    </details></ul>\n",
       "    <ul style=\"margin: 0px; list-style-position: outside;\">\n",
       "    <li style='margin-left:1em; padding-left: 0.5em'>beam_energy = 60.0</li></ul>\n",
       "    \n",
       "    <ul style=\"margin: 0px; list-style-position: outside;\">\n",
       "    <li style='margin-left:1em; padding-left: 0.5em'>camera_length = 196.0</li></ul>\n",
       "    \n",
       "    <ul style=\"margin: 0px; list-style-position: outside;\">\n",
       "    <li style='margin-left:1em; padding-left: 0.5em'>magnification = 28500.0</li></ul>\n",
       "    \n",
       "    <ul style=\"margin: 0px; list-style-position: outside;\">\n",
       "    <li style='margin-left:1em; padding-left: 0.5em'>microscope = Titan</li></ul>\n",
       "    </details></ul></details></ul><ul style=\"margin: 0px; list-style-position: outside;\">\n",
       "                    <details open>\n",
       "                    <summary style=\"display: list-item;\">\n",
       "                    <li style=\"display: inline;\">\n",
       "                    General\n",
       "                    </li></summary>\n",
       "                    <ul style=\"margin: 0px; list-style-position: outside;\">\n",
       "                    <details closed>\n",
       "                    <summary style=\"display: list-item;\">\n",
       "                    <li style=\"display: inline;\">\n",
       "                    FileIO\n",
       "                    </li></summary>\n",
       "                    <ul style=\"margin: 0px; list-style-position: outside;\">\n",
       "                    <details closed>\n",
       "                    <summary style=\"display: list-item;\">\n",
       "                    <li style=\"display: inline;\">\n",
       "                    0\n",
       "                    </li></summary>\n",
       "                    \n",
       "    <ul style=\"margin: 0px; list-style-position: outside;\">\n",
       "    <li style='margin-left:1em; padding-left: 0.5em'>hyperspy_version = 2.3.0</li></ul>\n",
       "    \n",
       "    <ul style=\"margin: 0px; list-style-position: outside;\">\n",
       "    <li style='margin-left:1em; padding-left: 0.5em'>io_plugin = rsciio.emd</li></ul>\n",
       "    \n",
       "    <ul style=\"margin: 0px; list-style-position: outside;\">\n",
       "    <li style='margin-left:1em; padding-left: 0.5em'>operation = load</li></ul>\n",
       "    \n",
       "    <ul style=\"margin: 0px; list-style-position: outside;\">\n",
       "    <li style='margin-left:1em; padding-left: 0.5em'>timestamp = 2025-06-30T13:19:24.758469-07:00</li></ul>\n",
       "    </details></ul></details></ul>\n",
       "    <ul style=\"margin: 0px; list-style-position: outside;\">\n",
       "    <li style='margin-left:1em; padding-left: 0.5em'>date = 2024-10-16</li></ul>\n",
       "    \n",
       "    <ul style=\"margin: 0px; list-style-position: outside;\">\n",
       "    <li style='margin-left:1em; padding-left: 0.5em'>original_filename = Copy of SI HAADF 1059 49000 x.emd</li></ul>\n",
       "    \n",
       "    <ul style=\"margin: 0px; list-style-position: outside;\">\n",
       "    <li style='margin-left:1em; padding-left: 0.5em'>time = 10:59:27-07:00</li></ul>\n",
       "    \n",
       "    <ul style=\"margin: 0px; list-style-position: outside;\">\n",
       "    <li style='margin-left:1em; padding-left: 0.5em'>time_zone = Pacific Daylight Time</li></ul>\n",
       "    \n",
       "    <ul style=\"margin: 0px; list-style-position: outside;\">\n",
       "    <li style='margin-left:1em; padding-left: 0.5em'>title = EDS</li></ul>\n",
       "    </details></ul><ul style=\"margin: 0px; list-style-position: outside;\">\n",
       "                    <details open>\n",
       "                    <summary style=\"display: list-item;\">\n",
       "                    <li style=\"display: inline;\">\n",
       "                    Sample\n",
       "                    </li></summary>\n",
       "                    \n",
       "    <ul style=\"margin: 0px; list-style-position: outside;\">\n",
       "    <li style='margin-left:1em; padding-left: 0.5em'>elements = ['O', 'Na', 'Al', 'Si', 'K', 'Fe', 'Rb', 'Ba']</li></ul>\n",
       "    </details></ul><ul style=\"margin: 0px; list-style-position: outside;\">\n",
       "                    <details open>\n",
       "                    <summary style=\"display: list-item;\">\n",
       "                    <li style=\"display: inline;\">\n",
       "                    Signal\n",
       "                    </li></summary>\n",
       "                    \n",
       "    <ul style=\"margin: 0px; list-style-position: outside;\">\n",
       "    <li style='margin-left:1em; padding-left: 0.5em'>signal_type = EDS_TEM</li></ul>\n",
       "    </details></ul>"
      ],
      "text/plain": [
       "├── Acquisition_instrument\n",
       "│   └── TEM\n",
       "│       ├── Detector\n",
       "│       │   └── EDS\n",
       "│       │       ├── azimuth_angle = 0.0\n",
       "│       │       ├── elevation_angle = 35.0\n",
       "│       │       └── energy_resolution_MnKa = 130.0\n",
       "│       ├── Stage\n",
       "│       │   ├── tilt_alpha = np.float64(0.0)\n",
       "│       │   ├── tilt_beta = np.float64(0.0)\n",
       "│       │   ├── x = -3.5e-05\n",
       "│       │   ├── y = -0.000571\n",
       "│       │   └── z = -8e-05\n",
       "│       ├── beam_energy = 60.0\n",
       "│       ├── camera_length = 196.0\n",
       "│       ├── magnification = 28500.0\n",
       "│       └── microscope = Titan\n",
       "├── General\n",
       "│   ├── FileIO\n",
       "│   │   └── 0\n",
       "│   │       ├── hyperspy_version = 2.3.0\n",
       "│   │       ├── io_plugin = rsciio.emd\n",
       "│   │       ├── operation = load\n",
       "│   │       └── timestamp = 2025-06-30T13:19:24.758469-07:00\n",
       "│   ├── date = 2024-10-16\n",
       "│   ├── original_filename = Copy of SI HAADF 1059 49000 x.emd\n",
       "│   ├── time = 10:59:27-07:00\n",
       "│   ├── time_zone = Pacific Daylight Time\n",
       "│   └── title = EDS\n",
       "├── Sample\n",
       "│   └── elements = ['O', 'Na', 'Al', 'Si', 'K', 'Fe', 'Rb', 'Ba']\n",
       "└── Signal\n",
       "    └── signal_type = EDS_TEM"
      ]
     },
     "execution_count": 11,
     "metadata": {},
     "output_type": "execute_result"
    }
   ],
   "source": [
    "signal1[0].metadata"
   ]
  },
  {
   "cell_type": "code",
   "execution_count": 49,
   "id": "3ef53339-7b70-48ae-b9af-3048c07c25ad",
   "metadata": {},
   "outputs": [
    {
     "data": {
      "text/plain": [
       "hyperspy.axes.AxesManager"
      ]
     },
     "execution_count": 49,
     "metadata": {},
     "output_type": "execute_result"
    }
   ],
   "source": [
    "type(signal1[0].axes_manager)"
   ]
  },
  {
   "cell_type": "code",
   "execution_count": 56,
   "id": "755e8768-f1cc-4ca6-abfd-730f35ba064a",
   "metadata": {},
   "outputs": [
    {
     "data": {
      "text/html": [
       "<style>\n",
       "table, th, td {\n",
       "\tborder: 1px solid black;\n",
       "\tborder-collapse: collapse;\n",
       "}\n",
       "th, td {\n",
       "\tpadding: 5px;\n",
       "}\n",
       "</style>\n",
       "<p><b>< Axes manager, axes: (|4096) ></b></p>\n",
       "<table style='width:100%'>\n",
       "\n",
       "<tr> \n",
       "<th>Signal axis name</th> \n",
       "<th>size</th> \n",
       "<th></th> \n",
       "<th>offset</th> \n",
       "<th>scale</th> \n",
       "<th>units</th> </tr>\n",
       "<tr> \n",
       "<td>Energy</td> \n",
       "<td>4096</td> \n",
       "<td></td> \n",
       "<td>-1.0</td> \n",
       "<td>0.01</td> \n",
       "<td>keV</td> </tr></table>\n"
      ],
      "text/plain": [
       "<Axes manager, axes: (|4096)>\n",
       "            Name |   size |  index |  offset |   scale |  units \n",
       "================ | ====== | ====== | ======= | ======= | ====== \n",
       "---------------- | ------ | ------ | ------- | ------- | ------ \n",
       "          Energy |   4096 |      0 |      -1 |    0.01 |    keV "
      ]
     },
     "execution_count": 56,
     "metadata": {},
     "output_type": "execute_result"
    }
   ],
   "source": [
    "signal1[0].axes_manager"
   ]
  },
  {
   "cell_type": "code",
   "execution_count": 63,
   "id": "ecbbefc0-7c74-4c6f-832f-dc99c27e9cf0",
   "metadata": {},
   "outputs": [
    {
     "data": {
      "text/plain": [
       "-1.0"
      ]
     },
     "execution_count": 63,
     "metadata": {},
     "output_type": "execute_result"
    }
   ],
   "source": [
    "signal1[0].axes_manager[0].offset"
   ]
  },
  {
   "cell_type": "code",
   "execution_count": 64,
   "id": "a7f4e78b-b222-476e-a230-e7c6c74e9583",
   "metadata": {},
   "outputs": [
    {
     "data": {
      "text/plain": [
       "0.01"
      ]
     },
     "execution_count": 64,
     "metadata": {},
     "output_type": "execute_result"
    }
   ],
   "source": [
    "signal1[0].axes_manager[0].scale"
   ]
  },
  {
   "cell_type": "code",
   "execution_count": 65,
   "id": "274dc885-ffc0-4619-adce-829d868c72f0",
   "metadata": {},
   "outputs": [
    {
     "data": {
      "text/plain": [
       "'keV'"
      ]
     },
     "execution_count": 65,
     "metadata": {},
     "output_type": "execute_result"
    }
   ],
   "source": [
    "signal1[0].axes_manager[0].units"
   ]
  },
  {
   "cell_type": "code",
   "execution_count": 13,
   "id": "39d5a88f-885d-4245-8c31-c28ce1effe05",
   "metadata": {},
   "outputs": [
    {
     "data": {
      "text/plain": [
       "array([[[0, 0, 0, ..., 0, 0, 0],\n",
       "        [0, 0, 0, ..., 0, 0, 0],\n",
       "        [0, 0, 0, ..., 0, 0, 0],\n",
       "        ...,\n",
       "        [0, 0, 0, ..., 0, 0, 0],\n",
       "        [0, 0, 0, ..., 0, 0, 0],\n",
       "        [0, 0, 0, ..., 0, 0, 0]],\n",
       "\n",
       "       [[0, 0, 0, ..., 0, 0, 0],\n",
       "        [0, 0, 0, ..., 0, 0, 0],\n",
       "        [0, 0, 0, ..., 0, 0, 0],\n",
       "        ...,\n",
       "        [0, 0, 0, ..., 0, 0, 0],\n",
       "        [0, 0, 0, ..., 0, 0, 0],\n",
       "        [0, 0, 0, ..., 0, 0, 0]],\n",
       "\n",
       "       [[0, 0, 0, ..., 0, 0, 0],\n",
       "        [0, 0, 0, ..., 0, 0, 0],\n",
       "        [0, 0, 0, ..., 0, 0, 0],\n",
       "        ...,\n",
       "        [0, 0, 0, ..., 0, 0, 0],\n",
       "        [0, 0, 0, ..., 0, 0, 0],\n",
       "        [0, 0, 0, ..., 0, 0, 0]],\n",
       "\n",
       "       ...,\n",
       "\n",
       "       [[0, 0, 0, ..., 0, 0, 0],\n",
       "        [0, 0, 0, ..., 0, 0, 0],\n",
       "        [0, 0, 0, ..., 0, 0, 0],\n",
       "        ...,\n",
       "        [0, 0, 0, ..., 0, 0, 0],\n",
       "        [0, 0, 0, ..., 0, 0, 0],\n",
       "        [0, 0, 0, ..., 0, 0, 0]],\n",
       "\n",
       "       [[0, 0, 0, ..., 0, 0, 0],\n",
       "        [0, 0, 0, ..., 0, 0, 0],\n",
       "        [0, 0, 0, ..., 0, 0, 0],\n",
       "        ...,\n",
       "        [0, 0, 0, ..., 0, 0, 0],\n",
       "        [0, 0, 0, ..., 0, 0, 0],\n",
       "        [0, 0, 0, ..., 0, 0, 0]],\n",
       "\n",
       "       [[0, 0, 0, ..., 0, 0, 0],\n",
       "        [0, 0, 0, ..., 0, 0, 0],\n",
       "        [0, 0, 0, ..., 0, 0, 0],\n",
       "        ...,\n",
       "        [0, 0, 0, ..., 0, 0, 0],\n",
       "        [0, 0, 0, ..., 0, 0, 0],\n",
       "        [0, 0, 0, ..., 0, 0, 0]]], shape=(400, 400, 4096), dtype=uint16)"
      ]
     },
     "execution_count": 13,
     "metadata": {},
     "output_type": "execute_result"
    }
   ],
   "source": [
    "signal1[13].data"
   ]
  },
  {
   "cell_type": "code",
   "execution_count": 14,
   "id": "9796aadd-6f03-4e92-86ab-05cbea91006b",
   "metadata": {},
   "outputs": [
    {
     "data": {
      "text/plain": [
       "(400, 400, 4096)"
      ]
     },
     "execution_count": 14,
     "metadata": {},
     "output_type": "execute_result"
    }
   ],
   "source": [
    "signal1[13].data.shape"
   ]
  },
  {
   "cell_type": "code",
   "execution_count": 15,
   "id": "3be88e3f-3a15-457b-aa70-1c78cd25279a",
   "metadata": {},
   "outputs": [
    {
     "data": {
      "text/html": [
       "<ul style=\"margin: 0px; list-style-position: outside;\">\n",
       "                    <details open>\n",
       "                    <summary style=\"display: list-item;\">\n",
       "                    <li style=\"display: inline;\">\n",
       "                    Acquisition_instrument\n",
       "                    </li></summary>\n",
       "                    <ul style=\"margin: 0px; list-style-position: outside;\">\n",
       "                    <details closed>\n",
       "                    <summary style=\"display: list-item;\">\n",
       "                    <li style=\"display: inline;\">\n",
       "                    TEM\n",
       "                    </li></summary>\n",
       "                    <ul style=\"margin: 0px; list-style-position: outside;\">\n",
       "                    <details closed>\n",
       "                    <summary style=\"display: list-item;\">\n",
       "                    <li style=\"display: inline;\">\n",
       "                    Detector\n",
       "                    </li></summary>\n",
       "                    <ul style=\"margin: 0px; list-style-position: outside;\">\n",
       "                    <details closed>\n",
       "                    <summary style=\"display: list-item;\">\n",
       "                    <li style=\"display: inline;\">\n",
       "                    EDS\n",
       "                    </li></summary>\n",
       "                    \n",
       "    <ul style=\"margin: 0px; list-style-position: outside;\">\n",
       "    <li style='margin-left:1em; padding-left: 0.5em'>azimuth_angle = 0.0</li></ul>\n",
       "    \n",
       "    <ul style=\"margin: 0px; list-style-position: outside;\">\n",
       "    <li style='margin-left:1em; padding-left: 0.5em'>elevation_angle = 35.0</li></ul>\n",
       "    \n",
       "    <ul style=\"margin: 0px; list-style-position: outside;\">\n",
       "    <li style='margin-left:1em; padding-left: 0.5em'>energy_resolution_MnKa = 130.0</li></ul>\n",
       "    \n",
       "    <ul style=\"margin: 0px; list-style-position: outside;\">\n",
       "    <li style='margin-left:1em; padding-left: 0.5em'>number_of_frames = 200</li></ul>\n",
       "    </details></ul></details></ul><ul style=\"margin: 0px; list-style-position: outside;\">\n",
       "                    <details closed>\n",
       "                    <summary style=\"display: list-item;\">\n",
       "                    <li style=\"display: inline;\">\n",
       "                    Stage\n",
       "                    </li></summary>\n",
       "                    \n",
       "    <ul style=\"margin: 0px; list-style-position: outside;\">\n",
       "    <li style='margin-left:1em; padding-left: 0.5em'>tilt_alpha = np.float64(0.0)</li></ul>\n",
       "    \n",
       "    <ul style=\"margin: 0px; list-style-position: outside;\">\n",
       "    <li style='margin-left:1em; padding-left: 0.5em'>tilt_beta = np.float64(0.0)</li></ul>\n",
       "    \n",
       "    <ul style=\"margin: 0px; list-style-position: outside;\">\n",
       "    <li style='margin-left:1em; padding-left: 0.5em'>x = -3.5e-05</li></ul>\n",
       "    \n",
       "    <ul style=\"margin: 0px; list-style-position: outside;\">\n",
       "    <li style='margin-left:1em; padding-left: 0.5em'>y = -0.000571</li></ul>\n",
       "    \n",
       "    <ul style=\"margin: 0px; list-style-position: outside;\">\n",
       "    <li style='margin-left:1em; padding-left: 0.5em'>z = -8e-05</li></ul>\n",
       "    </details></ul>\n",
       "    <ul style=\"margin: 0px; list-style-position: outside;\">\n",
       "    <li style='margin-left:1em; padding-left: 0.5em'>beam_energy = 60.0</li></ul>\n",
       "    \n",
       "    <ul style=\"margin: 0px; list-style-position: outside;\">\n",
       "    <li style='margin-left:1em; padding-left: 0.5em'>camera_length = 196.0</li></ul>\n",
       "    \n",
       "    <ul style=\"margin: 0px; list-style-position: outside;\">\n",
       "    <li style='margin-left:1em; padding-left: 0.5em'>magnification = 28500.0</li></ul>\n",
       "    \n",
       "    <ul style=\"margin: 0px; list-style-position: outside;\">\n",
       "    <li style='margin-left:1em; padding-left: 0.5em'>microscope = Titan</li></ul>\n",
       "    </details></ul></details></ul><ul style=\"margin: 0px; list-style-position: outside;\">\n",
       "                    <details open>\n",
       "                    <summary style=\"display: list-item;\">\n",
       "                    <li style=\"display: inline;\">\n",
       "                    General\n",
       "                    </li></summary>\n",
       "                    <ul style=\"margin: 0px; list-style-position: outside;\">\n",
       "                    <details closed>\n",
       "                    <summary style=\"display: list-item;\">\n",
       "                    <li style=\"display: inline;\">\n",
       "                    FileIO\n",
       "                    </li></summary>\n",
       "                    <ul style=\"margin: 0px; list-style-position: outside;\">\n",
       "                    <details closed>\n",
       "                    <summary style=\"display: list-item;\">\n",
       "                    <li style=\"display: inline;\">\n",
       "                    0\n",
       "                    </li></summary>\n",
       "                    \n",
       "    <ul style=\"margin: 0px; list-style-position: outside;\">\n",
       "    <li style='margin-left:1em; padding-left: 0.5em'>hyperspy_version = 2.3.0</li></ul>\n",
       "    \n",
       "    <ul style=\"margin: 0px; list-style-position: outside;\">\n",
       "    <li style='margin-left:1em; padding-left: 0.5em'>io_plugin = rsciio.emd</li></ul>\n",
       "    \n",
       "    <ul style=\"margin: 0px; list-style-position: outside;\">\n",
       "    <li style='margin-left:1em; padding-left: 0.5em'>operation = load</li></ul>\n",
       "    \n",
       "    <ul style=\"margin: 0px; list-style-position: outside;\">\n",
       "    <li style='margin-left:1em; padding-left: 0.5em'>timestamp = 2025-06-30T13:19:24.941292-07:00</li></ul>\n",
       "    </details></ul></details></ul>\n",
       "    <ul style=\"margin: 0px; list-style-position: outside;\">\n",
       "    <li style='margin-left:1em; padding-left: 0.5em'>date = 2024-10-16</li></ul>\n",
       "    \n",
       "    <ul style=\"margin: 0px; list-style-position: outside;\">\n",
       "    <li style='margin-left:1em; padding-left: 0.5em'>original_filename = Copy of SI HAADF 1059 49000 x.emd</li></ul>\n",
       "    \n",
       "    <ul style=\"margin: 0px; list-style-position: outside;\">\n",
       "    <li style='margin-left:1em; padding-left: 0.5em'>time = 10:59:27-07:00</li></ul>\n",
       "    \n",
       "    <ul style=\"margin: 0px; list-style-position: outside;\">\n",
       "    <li style='margin-left:1em; padding-left: 0.5em'>time_zone = Pacific Daylight Time</li></ul>\n",
       "    \n",
       "    <ul style=\"margin: 0px; list-style-position: outside;\">\n",
       "    <li style='margin-left:1em; padding-left: 0.5em'>title = EDS</li></ul>\n",
       "    </details></ul><ul style=\"margin: 0px; list-style-position: outside;\">\n",
       "                    <details open>\n",
       "                    <summary style=\"display: list-item;\">\n",
       "                    <li style=\"display: inline;\">\n",
       "                    Sample\n",
       "                    </li></summary>\n",
       "                    \n",
       "    <ul style=\"margin: 0px; list-style-position: outside;\">\n",
       "    <li style='margin-left:1em; padding-left: 0.5em'>elements = ['O', 'Na', 'Al', 'Si', 'K', 'Fe', 'Rb', 'Ba']</li></ul>\n",
       "    </details></ul><ul style=\"margin: 0px; list-style-position: outside;\">\n",
       "                    <details open>\n",
       "                    <summary style=\"display: list-item;\">\n",
       "                    <li style=\"display: inline;\">\n",
       "                    Signal\n",
       "                    </li></summary>\n",
       "                    \n",
       "    <ul style=\"margin: 0px; list-style-position: outside;\">\n",
       "    <li style='margin-left:1em; padding-left: 0.5em'>signal_type = EDS_TEM</li></ul>\n",
       "    </details></ul>"
      ],
      "text/plain": [
       "├── Acquisition_instrument\n",
       "│   └── TEM\n",
       "│       ├── Detector\n",
       "│       │   └── EDS\n",
       "│       │       ├── azimuth_angle = 0.0\n",
       "│       │       ├── elevation_angle = 35.0\n",
       "│       │       ├── energy_resolution_MnKa = 130.0\n",
       "│       │       └── number_of_frames = 200\n",
       "│       ├── Stage\n",
       "│       │   ├── tilt_alpha = np.float64(0.0)\n",
       "│       │   ├── tilt_beta = np.float64(0.0)\n",
       "│       │   ├── x = -3.5e-05\n",
       "│       │   ├── y = -0.000571\n",
       "│       │   └── z = -8e-05\n",
       "│       ├── beam_energy = 60.0\n",
       "│       ├── camera_length = 196.0\n",
       "│       ├── magnification = 28500.0\n",
       "│       └── microscope = Titan\n",
       "├── General\n",
       "│   ├── FileIO\n",
       "│   │   └── 0\n",
       "│   │       ├── hyperspy_version = 2.3.0\n",
       "│   │       ├── io_plugin = rsciio.emd\n",
       "│   │       ├── operation = load\n",
       "│   │       └── timestamp = 2025-06-30T13:19:24.941292-07:00\n",
       "│   ├── date = 2024-10-16\n",
       "│   ├── original_filename = Copy of SI HAADF 1059 49000 x.emd\n",
       "│   ├── time = 10:59:27-07:00\n",
       "│   ├── time_zone = Pacific Daylight Time\n",
       "│   └── title = EDS\n",
       "├── Sample\n",
       "│   └── elements = ['O', 'Na', 'Al', 'Si', 'K', 'Fe', 'Rb', 'Ba']\n",
       "└── Signal\n",
       "    └── signal_type = EDS_TEM"
      ]
     },
     "execution_count": 15,
     "metadata": {},
     "output_type": "execute_result"
    }
   ],
   "source": [
    "signal1[13].metadata"
   ]
  },
  {
   "cell_type": "code",
   "execution_count": 16,
   "id": "4fea82dc-70d7-432d-b80f-10e7397c66f4",
   "metadata": {},
   "outputs": [
    {
     "data": {
      "text/html": [
       "<style>\n",
       "table, th, td {\n",
       "\tborder: 1px solid black;\n",
       "\tborder-collapse: collapse;\n",
       "}\n",
       "th, td {\n",
       "\tpadding: 5px;\n",
       "}\n",
       "</style>\n",
       "<p><b>< Axes manager, axes: (400, 400|4096) ></b></p>\n",
       "<table style='width:100%'>\n",
       "\n",
       "<tr> \n",
       "<th>Navigation axis name</th> \n",
       "<th>size</th> \n",
       "<th>index</th> \n",
       "<th>offset</th> \n",
       "<th>scale</th> \n",
       "<th>units</th> </tr>\n",
       "<tr> \n",
       "<td>x</td> \n",
       "<td>400</td> \n",
       "<td>0</td> \n",
       "<td>-430.64634577704004</td> \n",
       "<td>2.0030062594280933</td> \n",
       "<td>nm</td> </tr>\n",
       "<tr> \n",
       "<td>y</td> \n",
       "<td>400</td> \n",
       "<td>0</td> \n",
       "<td>-386.580208069622</td> \n",
       "<td>2.0030062594280933</td> \n",
       "<td>nm</td> </tr></table>\n",
       "<table style='width:100%'>\n",
       "\n",
       "<tr> \n",
       "<th>Signal axis name</th> \n",
       "<th>size</th> \n",
       "<th></th> \n",
       "<th>offset</th> \n",
       "<th>scale</th> \n",
       "<th>units</th> </tr>\n",
       "<tr> \n",
       "<td>X-ray energy</td> \n",
       "<td>4096</td> \n",
       "<td></td> \n",
       "<td>-1.0</td> \n",
       "<td>0.01</td> \n",
       "<td>keV</td> </tr></table>\n"
      ],
      "text/plain": [
       "<Axes manager, axes: (400, 400|4096)>\n",
       "            Name |   size |  index |  offset |   scale |  units \n",
       "================ | ====== | ====== | ======= | ======= | ====== \n",
       "               x |    400 |      0 | -4.3e+02 |       2 |     nm \n",
       "               y |    400 |      0 | -3.9e+02 |       2 |     nm \n",
       "---------------- | ------ | ------ | ------- | ------- | ------ \n",
       "    X-ray energy |   4096 |      0 |      -1 |    0.01 |    keV "
      ]
     },
     "execution_count": 16,
     "metadata": {},
     "output_type": "execute_result"
    }
   ],
   "source": [
    "signal1[13].axes_manager"
   ]
  },
  {
   "cell_type": "code",
   "execution_count": 66,
   "id": "9af5799d-47b0-4892-8278-1370e1c76476",
   "metadata": {},
   "outputs": [
    {
     "data": {
      "text/plain": [
       "-430.64634577704004"
      ]
     },
     "execution_count": 66,
     "metadata": {},
     "output_type": "execute_result"
    }
   ],
   "source": [
    "signal1[13].axes_manager[0].offset"
   ]
  },
  {
   "cell_type": "code",
   "execution_count": 67,
   "id": "3d6f8ba0-5ae8-46f0-9efe-1f76033638b5",
   "metadata": {},
   "outputs": [
    {
     "data": {
      "text/plain": [
       "-1.0"
      ]
     },
     "execution_count": 67,
     "metadata": {},
     "output_type": "execute_result"
    }
   ],
   "source": [
    "signal1[13].axes_manager[2].offset"
   ]
  },
  {
   "cell_type": "code",
   "execution_count": 70,
   "id": "3544418c-08fe-43e7-91ec-5757bcecef3c",
   "metadata": {},
   "outputs": [
    {
     "data": {
      "text/plain": [
       "0.01"
      ]
     },
     "execution_count": 70,
     "metadata": {},
     "output_type": "execute_result"
    }
   ],
   "source": [
    "signal1[13].axes_manager[2].scale"
   ]
  },
  {
   "cell_type": "code",
   "execution_count": 71,
   "id": "a80f085b-3fda-4485-86e0-b543f8de36f6",
   "metadata": {},
   "outputs": [
    {
     "data": {
      "text/plain": [
       "'keV'"
      ]
     },
     "execution_count": 71,
     "metadata": {},
     "output_type": "execute_result"
    }
   ],
   "source": [
    "signal1[13].axes_manager[2].units"
   ]
  },
  {
   "cell_type": "markdown",
   "id": "23c1dede-d575-46db-8dc5-1551760ff17c",
   "metadata": {},
   "source": [
    "# xraylib section"
   ]
  },
  {
   "cell_type": "code",
   "execution_count": 24,
   "id": "9101adbe-98bd-4139-bb7d-13ee70ded38f",
   "metadata": {},
   "outputs": [],
   "source": [
    " Iron = x.SymbolToAtomicNumber(\"Fe\")"
   ]
  },
  {
   "cell_type": "code",
   "execution_count": 25,
   "id": "d766f752-2efa-48b0-94ba-ab354ef9109c",
   "metadata": {},
   "outputs": [
    {
     "data": {
      "text/plain": [
       "26"
      ]
     },
     "execution_count": 25,
     "metadata": {},
     "output_type": "execute_result"
    }
   ],
   "source": [
    "Iron"
   ]
  },
  {
   "cell_type": "code",
   "execution_count": 30,
   "id": "23f42a5f-44b1-444b-a3f1-e5b45527ed61",
   "metadata": {},
   "outputs": [],
   "source": [
    "ka1_energy = x.LineEnergy(Iron, x.KA1_LINE)\n",
    "kb1_energy = x.LineEnergy(Iron, x.KB1_LINE)"
   ]
  },
  {
   "cell_type": "code",
   "execution_count": 31,
   "id": "7558601b-95c7-4639-9f5e-57439608f11f",
   "metadata": {},
   "outputs": [
    {
     "data": {
      "text/plain": [
       "6.4039"
      ]
     },
     "execution_count": 31,
     "metadata": {},
     "output_type": "execute_result"
    }
   ],
   "source": [
    "ka1_energy"
   ]
  },
  {
   "cell_type": "code",
   "execution_count": 32,
   "id": "055eec9e-e6a3-4576-8645-36ffcdd58fb6",
   "metadata": {},
   "outputs": [
    {
     "data": {
      "text/plain": [
       "7.058"
      ]
     },
     "execution_count": 32,
     "metadata": {},
     "output_type": "execute_result"
    }
   ],
   "source": [
    "kb1_energy"
   ]
  },
  {
   "cell_type": "code",
   "execution_count": 33,
   "id": "65b12b36-e76f-4b5f-a773-e335aa17ae8f",
   "metadata": {},
   "outputs": [
    {
     "name": "stdout",
     "output_type": "stream",
     "text": [
      "K-edge binding energy for Fe: 7.11 keV\n"
     ]
    }
   ],
   "source": [
    "k_edge = x.EdgeEnergy(Iron, x.K_SHELL)\n",
    "print(f\"K-edge binding energy for Fe: {k_edge:.2f} keV\")"
   ]
  },
  {
   "cell_type": "code",
   "execution_count": 34,
   "id": "668e771b-50db-4f0c-91ef-b15ab066b58a",
   "metadata": {},
   "outputs": [],
   "source": [
    " Lithium = x.SymbolToAtomicNumber(\"Li\")"
   ]
  },
  {
   "cell_type": "markdown",
   "id": "dfdb9322-485e-4353-acfa-867e93f700bc",
   "metadata": {},
   "source": [
    "### xraylib does not carry the ka1 line for Lithium, which should be 54.3 eV or 0.0543 keV\n",
    "### The following code will through an error"
   ]
  },
  {
   "cell_type": "code",
   "execution_count": 35,
   "id": "ba1b4a39-f9e1-44c4-85e1-3703394b53d6",
   "metadata": {},
   "outputs": [
    {
     "ename": "ValueError",
     "evalue": "Invalid line for this atomic number",
     "output_type": "error",
     "traceback": [
      "\u001b[1;31m---------------------------------------------------------------------------\u001b[0m",
      "\u001b[1;31mValueError\u001b[0m                                Traceback (most recent call last)",
      "Cell \u001b[1;32mIn[35], line 1\u001b[0m\n\u001b[1;32m----> 1\u001b[0m ka1_energy \u001b[38;5;241m=\u001b[39m \u001b[43mx\u001b[49m\u001b[38;5;241;43m.\u001b[39;49m\u001b[43mLineEnergy\u001b[49m\u001b[43m(\u001b[49m\u001b[43mLithium\u001b[49m\u001b[43m,\u001b[49m\u001b[43m \u001b[49m\u001b[43mx\u001b[49m\u001b[38;5;241;43m.\u001b[39;49m\u001b[43mKA1_LINE\u001b[49m\u001b[43m)\u001b[49m\n",
      "File \u001b[1;32m~\\micromambaenv\\envs\\hyperspy-env\\lib\\site-packages\\xraylib.py:4127\u001b[0m, in \u001b[0;36mLineEnergy\u001b[1;34m(Z, line)\u001b[0m\n\u001b[0;32m   4117\u001b[0m \u001b[38;5;28;01mdef\u001b[39;00m\u001b[38;5;250m \u001b[39m\u001b[38;5;21mLineEnergy\u001b[39m(Z, line):\n\u001b[0;32m   4118\u001b[0m \u001b[38;5;250m    \u001b[39m\u001b[38;5;124mr\u001b[39m\u001b[38;5;124;03m\"\"\"\u001b[39;00m\n\u001b[0;32m   4119\u001b[0m \u001b[38;5;124;03m    LineEnergy(int Z, int line) -> double\u001b[39;00m\n\u001b[0;32m   4120\u001b[0m \n\u001b[1;32m   (...)\u001b[0m\n\u001b[0;32m   4125\u001b[0m \n\u001b[0;32m   4126\u001b[0m \u001b[38;5;124;03m    \"\"\"\u001b[39;00m\n\u001b[1;32m-> 4127\u001b[0m     \u001b[38;5;28;01mreturn\u001b[39;00m \u001b[43m_xraylib\u001b[49m\u001b[38;5;241;43m.\u001b[39;49m\u001b[43mLineEnergy\u001b[49m\u001b[43m(\u001b[49m\u001b[43mZ\u001b[49m\u001b[43m,\u001b[49m\u001b[43m \u001b[49m\u001b[43mline\u001b[49m\u001b[43m)\u001b[49m\n",
      "\u001b[1;31mValueError\u001b[0m: Invalid line for this atomic number"
     ]
    }
   ],
   "source": [
    "ka1_energy = x.LineEnergy(Lithium, x.KA1_LINE)"
   ]
  },
  {
   "cell_type": "markdown",
   "id": "33c50e11-24e0-4d80-ad81-617082afbd3c",
   "metadata": {},
   "source": [
    "### The first element xraylib does carry the ka1 line for is Oxygen"
   ]
  },
  {
   "cell_type": "code",
   "execution_count": 36,
   "id": "42675101-9d5d-418d-a72e-63048d1b907d",
   "metadata": {},
   "outputs": [
    {
     "data": {
      "text/plain": [
       "0.5249"
      ]
     },
     "execution_count": 36,
     "metadata": {},
     "output_type": "execute_result"
    }
   ],
   "source": [
    "Oxygen = x.SymbolToAtomicNumber(\"O\")\n",
    "ka1_energy = x.LineEnergy(Oxygen, x.KA1_LINE)\n",
    "ka1_energy"
   ]
  },
  {
   "cell_type": "code",
   "execution_count": 44,
   "id": "f228e3c2-d858-4989-92c7-6243e3251d82",
   "metadata": {},
   "outputs": [],
   "source": [
    "Lawrencium = x.SymbolToAtomicNumber(\"Lr\")\n",
    "ka1_energy = x.LineEnergy(Lawrencium, x.KA1_LINE)\n",
    "ma1_energy = x.LineEnergy(Lawrencium, x.MA1_LINE)"
   ]
  },
  {
   "cell_type": "code",
   "execution_count": 43,
   "id": "b50ee38b-d9e2-4e0c-b095-dfa6d1558d59",
   "metadata": {},
   "outputs": [
    {
     "data": {
      "text/plain": [
       "130.611"
      ]
     },
     "execution_count": 43,
     "metadata": {},
     "output_type": "execute_result"
    }
   ],
   "source": [
    "ka1_energy"
   ]
  },
  {
   "cell_type": "code",
   "execution_count": 45,
   "id": "6de87649-2b60-4ea4-bf63-0e6a0ab64ab3",
   "metadata": {},
   "outputs": [
    {
     "data": {
      "text/plain": [
       "4.218"
      ]
     },
     "execution_count": 45,
     "metadata": {},
     "output_type": "execute_result"
    }
   ],
   "source": [
    "ma1_energy"
   ]
  },
  {
   "cell_type": "code",
   "execution_count": null,
   "id": "600000fa-ce79-4b86-83bc-bd5018bd128c",
   "metadata": {},
   "outputs": [],
   "source": []
  }
 ],
 "metadata": {
  "kernelspec": {
   "display_name": "Python 3 (ipykernel)",
   "language": "python",
   "name": "python3"
  },
  "language_info": {
   "codemirror_mode": {
    "name": "ipython",
    "version": 3
   },
   "file_extension": ".py",
   "mimetype": "text/x-python",
   "name": "python",
   "nbconvert_exporter": "python",
   "pygments_lexer": "ipython3",
   "version": "3.10.18"
  }
 },
 "nbformat": 4,
 "nbformat_minor": 5
}
